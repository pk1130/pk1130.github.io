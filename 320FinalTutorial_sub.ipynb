{
  "nbformat": 4,
  "nbformat_minor": 0,
  "metadata": {
    "kernelspec": {
      "display_name": "Python 3",
      "language": "python",
      "name": "python3"
    },
    "language_info": {
      "codemirror_mode": {
        "name": "ipython",
        "version": 3
      },
      "file_extension": ".py",
      "mimetype": "text/x-python",
      "name": "python",
      "nbconvert_exporter": "python",
      "pygments_lexer": "ipython3",
      "version": "3.8.5"
    },
    "colab": {
      "name": "320FinalTutorial.ipynb",
      "provenance": [],
      "collapsed_sections": []
    }
  },
  "cells": [
    {
      "cell_type": "markdown",
      "metadata": {
        "id": "VQbLCNGrdoNN"
      },
      "source": [
        "# Predicting which current NBA players will make the Hall of Fame"
      ]
    },
    {
      "cell_type": "markdown",
      "metadata": {
        "id": "TwT6BEWqdoNS"
      },
      "source": [
        "<img src=\"files/data/images/goat.jpg\">"
      ]
    },
    {
      "cell_type": "markdown",
      "metadata": {
        "id": "OGMikXytdoNT"
      },
      "source": [
        "Authors: Patanjali Kumar, Vibhor Goel, David Abraham"
      ]
    },
    {
      "cell_type": "markdown",
      "metadata": {
        "id": "Iv_EjeD5doNU"
      },
      "source": [
        "## Project Abstract"
      ]
    },
    {
      "cell_type": "markdown",
      "metadata": {
        "id": "WE0n5MItdoNV"
      },
      "source": [
        "### Introduction\n",
        "Every year, hundreds of thousands of people around the world watch the basketball games held by the **National Basketball Association** (NBA). The NBA is an American men's professional basketball league composed of 30 teams. Its regular season runs from October to April, with each team playing 82 games, and the league's playoff tournament extends into June. For most players in the NBA, being inducted into the Basketball Hall of Fame in Springfield, Massachusetts would be the crowning achievement of their careers. Thousands have been able to work hard enough and be at an elite enough level to have the opportunity to play in an NBA game, yet only a select handful of them, about 180, have been inducted into the Hall of Fame as a player. Each year’s Hall of Fame class is chosen by a committee and many factors are taken into account to determine whether one should be inducted, however, the criteria can be broken down into “those that have made a significant contribution to the game of basketball.” \n",
        " \n",
        "### Why its important\n",
        "Being able to identify those in today’s game whose resumes stack up well enough to match their peers in Springfield is a worthy task. This is the highest and most selective honor in the sport of basketball, and each year’s induction class effectively defines whose careers are deemed integral to telling the story of the sport. Additionally, the world of analytics has taken over many sports, and this is especially true for basketball. In the aftermath of stories like Moneyball, choosing players for a team’s roster is heavily dependent on what the analytics says one should do. This has manifested itself in ways such as the three-point shot going from somewhat of a gimmick that nobody really utilized several decades ago to becoming the most important shot in today’s game, to the point where a player who cannot shoot in today’s game is almost unplayable. Similarly, using these same advanced stats can be very effective in quantifying what is most important for one’s chances of induction into the Basketball Hall of Fame.\n",
        " \n",
        "### How our project works\n",
        "This tutorial aims to determine what data and which statistics specifically are important in determining a player’s chances of Hall of Fame induction. In our data set, we looked at the stats of players who are already in the Hall of Fame and based off of that we tried to predict who would make the Hall of Fame that is not already in it. Since Hall of Fame eligibility for players requires being retired for at least four full seasons, we looked at players who are still playing currently or who have retired recently. We used data from a very popular website called [Basketball Reference](https://www.basketball-reference.com/), which allows us to look at advanced statistics that go a bit beyond just per-game stats. Though these statistics that can greatly help predict chances of induction, it is important to note that it is impossible to have an all-encompassing prediction model, since off-the-court behavior can affect the voters’ decisions, or as the Board of Trustees puts it, anyone who has “damaged the integrity of the game of basketball.” Taking this into account, our model will attempt to make predictions based solely on a player’s performance on the court, and hopefully be able to help understand what measures of performance are most important in determining players’ chances.  \n"
      ]
    },
    {
      "cell_type": "code",
      "metadata": {
        "id": "Ac9Bm5godoNZ"
      },
      "source": [
        "import pandas as pd\n",
        "import numpy as np\n",
        "import seaborn as sns\n",
        "import matplotlib.pyplot as plt\n",
        "import math\n",
        "import scipy.stats as stats\n",
        "import requests\n",
        "import sklearn\n",
        "from bs4 import BeautifulSoup, SoupStrainer\n",
        "from sportsreference.nba.roster import Player\n",
        "from datetime import timedelta, datetime\n",
        "from sklearn.linear_model import LogisticRegression\n",
        "from sklearn.preprocessing import StandardScaler\n",
        "from sklearn.feature_selection import RFE, SelectFromModel, SelectKBest\n",
        "from sklearn.ensemble import RandomForestClassifier\n",
        "from sklearn.pipeline import make_pipeline\n",
        "from sklearn.base import clone\n",
        "from sklearn.metrics import accuracy_score, brier_score_loss\n",
        "import sys, os"
      ],
      "execution_count": null,
      "outputs": []
    },
    {
      "cell_type": "code",
      "metadata": {
        "id": "DMj3LPbBdoNa"
      },
      "source": [
        "pd.set_option('display.max_columns', None)\n",
        "pd.set_option('display.max_rows', None)"
      ],
      "execution_count": null,
      "outputs": []
    },
    {
      "cell_type": "markdown",
      "metadata": {
        "id": "qx3JFLfOdoNb"
      },
      "source": [
        "We have gotten both these datasets consisting of basketball players from 1950 (first one from Kaggle, second one from Basketball Referecnce), but are not sure which of the datasets is more exhaustive. To be sure of that, let's check the shape of both datasets to get which one has more players and do a merge accordingly to ensure that we don't miss out on any of the players from either table. We also want the player_ref_id column from the second dataset as that is the primary argument into the basketball reference API to get any information related to a player."
      ]
    },
    {
      "cell_type": "markdown",
      "metadata": {
        "id": "VQc8alOtdoNc"
      },
      "source": [
        "## Data Curation and Cleaning"
      ]
    },
    {
      "cell_type": "code",
      "metadata": {
        "id": "uW4RjBf7doNc"
      },
      "source": [
        "players = pd.read_csv(\"Players.csv\")\n",
        "players2 = pd.read_csv(\"player_info.csv\")\n",
        "stats = pd.read_csv(\"Seasons_Stats.csv\")"
      ],
      "execution_count": null,
      "outputs": []
    },
    {
      "cell_type": "code",
      "metadata": {
        "id": "ZL4lOiTmdoNc"
      },
      "source": [
        "stats = stats[~stats.Player.isnull()]"
      ],
      "execution_count": null,
      "outputs": []
    },
    {
      "cell_type": "code",
      "metadata": {
        "colab": {
          "base_uri": "https://localhost:8080/",
          "height": 317
        },
        "id": "ODBWezRIdoNd",
        "outputId": "8323419d-b865-4e79-baba-103e39e8023f"
      },
      "source": [
        "stats.describe()"
      ],
      "execution_count": null,
      "outputs": [
        {
          "output_type": "execute_result",
          "data": {
            "text/html": [
              "<div>\n",
              "<style scoped>\n",
              "    .dataframe tbody tr th:only-of-type {\n",
              "        vertical-align: middle;\n",
              "    }\n",
              "\n",
              "    .dataframe tbody tr th {\n",
              "        vertical-align: top;\n",
              "    }\n",
              "\n",
              "    .dataframe thead th {\n",
              "        text-align: right;\n",
              "    }\n",
              "</style>\n",
              "<table border=\"1\" class=\"dataframe\">\n",
              "  <thead>\n",
              "    <tr style=\"text-align: right;\">\n",
              "      <th></th>\n",
              "      <th>Unnamed: 0</th>\n",
              "      <th>Year</th>\n",
              "      <th>Age</th>\n",
              "      <th>G</th>\n",
              "      <th>GS</th>\n",
              "      <th>MP</th>\n",
              "      <th>PER</th>\n",
              "      <th>TS%</th>\n",
              "      <th>3PAr</th>\n",
              "      <th>FTr</th>\n",
              "      <th>ORB%</th>\n",
              "      <th>DRB%</th>\n",
              "      <th>TRB%</th>\n",
              "      <th>AST%</th>\n",
              "      <th>STL%</th>\n",
              "      <th>BLK%</th>\n",
              "      <th>TOV%</th>\n",
              "      <th>USG%</th>\n",
              "      <th>blanl</th>\n",
              "      <th>OWS</th>\n",
              "      <th>DWS</th>\n",
              "      <th>WS</th>\n",
              "      <th>WS/48</th>\n",
              "      <th>blank2</th>\n",
              "      <th>OBPM</th>\n",
              "      <th>DBPM</th>\n",
              "      <th>BPM</th>\n",
              "      <th>VORP</th>\n",
              "      <th>FG</th>\n",
              "      <th>FGA</th>\n",
              "      <th>FG%</th>\n",
              "      <th>3P</th>\n",
              "      <th>3PA</th>\n",
              "      <th>3P%</th>\n",
              "      <th>2P</th>\n",
              "      <th>2PA</th>\n",
              "      <th>2P%</th>\n",
              "      <th>eFG%</th>\n",
              "      <th>FT</th>\n",
              "      <th>FTA</th>\n",
              "      <th>FT%</th>\n",
              "      <th>ORB</th>\n",
              "      <th>DRB</th>\n",
              "      <th>TRB</th>\n",
              "      <th>AST</th>\n",
              "      <th>STL</th>\n",
              "      <th>BLK</th>\n",
              "      <th>TOV</th>\n",
              "      <th>PF</th>\n",
              "      <th>PTS</th>\n",
              "      <th>Champion</th>\n",
              "      <th>championships</th>\n",
              "    </tr>\n",
              "  </thead>\n",
              "  <tbody>\n",
              "    <tr>\n",
              "      <th>count</th>\n",
              "      <td>24624.000000</td>\n",
              "      <td>24624.000000</td>\n",
              "      <td>24616.000000</td>\n",
              "      <td>24624.000000</td>\n",
              "      <td>18233.000000</td>\n",
              "      <td>24138.000000</td>\n",
              "      <td>24101.000000</td>\n",
              "      <td>24538.000000</td>\n",
              "      <td>18839.000000</td>\n",
              "      <td>24525.000000</td>\n",
              "      <td>20792.000000</td>\n",
              "      <td>20792.000000</td>\n",
              "      <td>21571.000000</td>\n",
              "      <td>22555.000000</td>\n",
              "      <td>20792.000000</td>\n",
              "      <td>20792.000000</td>\n",
              "      <td>19582.000000</td>\n",
              "      <td>19640.000000</td>\n",
              "      <td>0.0</td>\n",
              "      <td>24585.000000</td>\n",
              "      <td>24585.000000</td>\n",
              "      <td>24585.000000</td>\n",
              "      <td>24101.000000</td>\n",
              "      <td>0.0</td>\n",
              "      <td>20797.000000</td>\n",
              "      <td>20797.000000</td>\n",
              "      <td>20797.000000</td>\n",
              "      <td>20797.000000</td>\n",
              "      <td>24624.000000</td>\n",
              "      <td>24624.000000</td>\n",
              "      <td>24525.000000</td>\n",
              "      <td>18927.000000</td>\n",
              "      <td>18927.000000</td>\n",
              "      <td>15416.000000</td>\n",
              "      <td>24624.000000</td>\n",
              "      <td>24624.000000</td>\n",
              "      <td>24496.000000</td>\n",
              "      <td>24525.000000</td>\n",
              "      <td>24624.000000</td>\n",
              "      <td>24624.000000</td>\n",
              "      <td>23766.000000</td>\n",
              "      <td>20797.000000</td>\n",
              "      <td>20797.000000</td>\n",
              "      <td>24312.000000</td>\n",
              "      <td>24624.000000</td>\n",
              "      <td>20797.000000</td>\n",
              "      <td>20797.000000</td>\n",
              "      <td>19645.000000</td>\n",
              "      <td>24624.000000</td>\n",
              "      <td>24624.000000</td>\n",
              "      <td>24624.000000</td>\n",
              "      <td>24624.000000</td>\n",
              "    </tr>\n",
              "    <tr>\n",
              "      <th>mean</th>\n",
              "      <td>12354.094989</td>\n",
              "      <td>1992.594989</td>\n",
              "      <td>26.664405</td>\n",
              "      <td>50.837110</td>\n",
              "      <td>23.593375</td>\n",
              "      <td>1209.720317</td>\n",
              "      <td>12.479071</td>\n",
              "      <td>0.493001</td>\n",
              "      <td>0.158604</td>\n",
              "      <td>0.325455</td>\n",
              "      <td>6.181565</td>\n",
              "      <td>13.708657</td>\n",
              "      <td>9.949210</td>\n",
              "      <td>13.009962</td>\n",
              "      <td>1.648269</td>\n",
              "      <td>1.410624</td>\n",
              "      <td>15.085099</td>\n",
              "      <td>18.906492</td>\n",
              "      <td>NaN</td>\n",
              "      <td>1.257307</td>\n",
              "      <td>1.227395</td>\n",
              "      <td>2.485796</td>\n",
              "      <td>0.065002</td>\n",
              "      <td>NaN</td>\n",
              "      <td>-1.778386</td>\n",
              "      <td>-0.548570</td>\n",
              "      <td>-2.326720</td>\n",
              "      <td>0.559879</td>\n",
              "      <td>195.325820</td>\n",
              "      <td>430.645752</td>\n",
              "      <td>0.430817</td>\n",
              "      <td>22.215037</td>\n",
              "      <td>63.604480</td>\n",
              "      <td>0.248796</td>\n",
              "      <td>178.250447</td>\n",
              "      <td>381.756782</td>\n",
              "      <td>0.445343</td>\n",
              "      <td>0.450658</td>\n",
              "      <td>102.389336</td>\n",
              "      <td>136.775219</td>\n",
              "      <td>0.719279</td>\n",
              "      <td>62.189210</td>\n",
              "      <td>147.199404</td>\n",
              "      <td>224.637381</td>\n",
              "      <td>114.852623</td>\n",
              "      <td>39.897052</td>\n",
              "      <td>24.470260</td>\n",
              "      <td>73.939832</td>\n",
              "      <td>116.339222</td>\n",
              "      <td>510.116350</td>\n",
              "      <td>0.038499</td>\n",
              "      <td>0.228720</td>\n",
              "    </tr>\n",
              "    <tr>\n",
              "      <th>std</th>\n",
              "      <td>7125.490095</td>\n",
              "      <td>17.429594</td>\n",
              "      <td>3.841892</td>\n",
              "      <td>26.496161</td>\n",
              "      <td>28.632387</td>\n",
              "      <td>941.146575</td>\n",
              "      <td>6.039014</td>\n",
              "      <td>0.094469</td>\n",
              "      <td>0.187495</td>\n",
              "      <td>0.218971</td>\n",
              "      <td>4.872685</td>\n",
              "      <td>6.636402</td>\n",
              "      <td>5.040283</td>\n",
              "      <td>9.191843</td>\n",
              "      <td>1.017024</td>\n",
              "      <td>1.773348</td>\n",
              "      <td>6.919170</td>\n",
              "      <td>5.448157</td>\n",
              "      <td>NaN</td>\n",
              "      <td>2.136256</td>\n",
              "      <td>1.269613</td>\n",
              "      <td>3.058638</td>\n",
              "      <td>0.102471</td>\n",
              "      <td>NaN</td>\n",
              "      <td>3.792947</td>\n",
              "      <td>2.253106</td>\n",
              "      <td>4.691619</td>\n",
              "      <td>1.336892</td>\n",
              "      <td>188.114361</td>\n",
              "      <td>397.624715</td>\n",
              "      <td>0.095921</td>\n",
              "      <td>38.543366</td>\n",
              "      <td>102.442769</td>\n",
              "      <td>0.176683</td>\n",
              "      <td>179.478923</td>\n",
              "      <td>371.260335</td>\n",
              "      <td>0.099803</td>\n",
              "      <td>0.099200</td>\n",
              "      <td>113.373565</td>\n",
              "      <td>146.078918</td>\n",
              "      <td>0.141824</td>\n",
              "      <td>67.324881</td>\n",
              "      <td>145.921912</td>\n",
              "      <td>228.190203</td>\n",
              "      <td>135.863913</td>\n",
              "      <td>38.713053</td>\n",
              "      <td>36.935084</td>\n",
              "      <td>67.713803</td>\n",
              "      <td>84.791873</td>\n",
              "      <td>492.922981</td>\n",
              "      <td>0.192402</td>\n",
              "      <td>0.707748</td>\n",
              "    </tr>\n",
              "    <tr>\n",
              "      <th>min</th>\n",
              "      <td>0.000000</td>\n",
              "      <td>1950.000000</td>\n",
              "      <td>18.000000</td>\n",
              "      <td>1.000000</td>\n",
              "      <td>0.000000</td>\n",
              "      <td>0.000000</td>\n",
              "      <td>-90.600000</td>\n",
              "      <td>0.000000</td>\n",
              "      <td>0.000000</td>\n",
              "      <td>0.000000</td>\n",
              "      <td>0.000000</td>\n",
              "      <td>0.000000</td>\n",
              "      <td>0.000000</td>\n",
              "      <td>0.000000</td>\n",
              "      <td>0.000000</td>\n",
              "      <td>0.000000</td>\n",
              "      <td>0.000000</td>\n",
              "      <td>0.000000</td>\n",
              "      <td>NaN</td>\n",
              "      <td>-5.100000</td>\n",
              "      <td>-1.000000</td>\n",
              "      <td>-2.800000</td>\n",
              "      <td>-2.519000</td>\n",
              "      <td>NaN</td>\n",
              "      <td>-73.800000</td>\n",
              "      <td>-30.400000</td>\n",
              "      <td>-86.700000</td>\n",
              "      <td>-2.600000</td>\n",
              "      <td>0.000000</td>\n",
              "      <td>0.000000</td>\n",
              "      <td>0.000000</td>\n",
              "      <td>0.000000</td>\n",
              "      <td>0.000000</td>\n",
              "      <td>0.000000</td>\n",
              "      <td>0.000000</td>\n",
              "      <td>0.000000</td>\n",
              "      <td>0.000000</td>\n",
              "      <td>0.000000</td>\n",
              "      <td>0.000000</td>\n",
              "      <td>0.000000</td>\n",
              "      <td>0.000000</td>\n",
              "      <td>0.000000</td>\n",
              "      <td>0.000000</td>\n",
              "      <td>0.000000</td>\n",
              "      <td>0.000000</td>\n",
              "      <td>0.000000</td>\n",
              "      <td>0.000000</td>\n",
              "      <td>0.000000</td>\n",
              "      <td>0.000000</td>\n",
              "      <td>0.000000</td>\n",
              "      <td>0.000000</td>\n",
              "      <td>0.000000</td>\n",
              "    </tr>\n",
              "    <tr>\n",
              "      <th>25%</th>\n",
              "      <td>6186.750000</td>\n",
              "      <td>1981.000000</td>\n",
              "      <td>24.000000</td>\n",
              "      <td>27.000000</td>\n",
              "      <td>0.000000</td>\n",
              "      <td>340.000000</td>\n",
              "      <td>9.800000</td>\n",
              "      <td>0.458000</td>\n",
              "      <td>0.005000</td>\n",
              "      <td>0.208000</td>\n",
              "      <td>2.600000</td>\n",
              "      <td>8.800000</td>\n",
              "      <td>5.900000</td>\n",
              "      <td>6.500000</td>\n",
              "      <td>1.100000</td>\n",
              "      <td>0.300000</td>\n",
              "      <td>11.400000</td>\n",
              "      <td>15.400000</td>\n",
              "      <td>NaN</td>\n",
              "      <td>-0.100000</td>\n",
              "      <td>0.200000</td>\n",
              "      <td>0.200000</td>\n",
              "      <td>0.031000</td>\n",
              "      <td>NaN</td>\n",
              "      <td>-3.400000</td>\n",
              "      <td>-1.700000</td>\n",
              "      <td>-4.200000</td>\n",
              "      <td>-0.200000</td>\n",
              "      <td>41.000000</td>\n",
              "      <td>99.000000</td>\n",
              "      <td>0.393000</td>\n",
              "      <td>0.000000</td>\n",
              "      <td>1.000000</td>\n",
              "      <td>0.100000</td>\n",
              "      <td>35.000000</td>\n",
              "      <td>82.000000</td>\n",
              "      <td>0.407000</td>\n",
              "      <td>0.414000</td>\n",
              "      <td>18.000000</td>\n",
              "      <td>27.000000</td>\n",
              "      <td>0.657000</td>\n",
              "      <td>12.000000</td>\n",
              "      <td>33.000000</td>\n",
              "      <td>51.000000</td>\n",
              "      <td>19.000000</td>\n",
              "      <td>9.000000</td>\n",
              "      <td>3.000000</td>\n",
              "      <td>18.000000</td>\n",
              "      <td>39.000000</td>\n",
              "      <td>106.000000</td>\n",
              "      <td>0.000000</td>\n",
              "      <td>0.000000</td>\n",
              "    </tr>\n",
              "    <tr>\n",
              "      <th>50%</th>\n",
              "      <td>12357.500000</td>\n",
              "      <td>1996.000000</td>\n",
              "      <td>26.000000</td>\n",
              "      <td>58.000000</td>\n",
              "      <td>8.000000</td>\n",
              "      <td>1053.000000</td>\n",
              "      <td>12.700000</td>\n",
              "      <td>0.506000</td>\n",
              "      <td>0.064000</td>\n",
              "      <td>0.296000</td>\n",
              "      <td>5.400000</td>\n",
              "      <td>12.700000</td>\n",
              "      <td>9.200000</td>\n",
              "      <td>10.500000</td>\n",
              "      <td>1.500000</td>\n",
              "      <td>0.900000</td>\n",
              "      <td>14.200000</td>\n",
              "      <td>18.600000</td>\n",
              "      <td>NaN</td>\n",
              "      <td>0.400000</td>\n",
              "      <td>0.800000</td>\n",
              "      <td>1.400000</td>\n",
              "      <td>0.075000</td>\n",
              "      <td>NaN</td>\n",
              "      <td>-1.500000</td>\n",
              "      <td>-0.500000</td>\n",
              "      <td>-1.800000</td>\n",
              "      <td>0.000000</td>\n",
              "      <td>141.000000</td>\n",
              "      <td>321.000000</td>\n",
              "      <td>0.439000</td>\n",
              "      <td>2.000000</td>\n",
              "      <td>11.000000</td>\n",
              "      <td>0.292000</td>\n",
              "      <td>122.000000</td>\n",
              "      <td>270.000000</td>\n",
              "      <td>0.456000</td>\n",
              "      <td>0.463000</td>\n",
              "      <td>63.000000</td>\n",
              "      <td>88.000000</td>\n",
              "      <td>0.743000</td>\n",
              "      <td>38.000000</td>\n",
              "      <td>106.000000</td>\n",
              "      <td>159.000000</td>\n",
              "      <td>68.000000</td>\n",
              "      <td>29.000000</td>\n",
              "      <td>11.000000</td>\n",
              "      <td>55.000000</td>\n",
              "      <td>109.000000</td>\n",
              "      <td>364.000000</td>\n",
              "      <td>0.000000</td>\n",
              "      <td>0.000000</td>\n",
              "    </tr>\n",
              "    <tr>\n",
              "      <th>75%</th>\n",
              "      <td>18524.250000</td>\n",
              "      <td>2007.000000</td>\n",
              "      <td>29.000000</td>\n",
              "      <td>75.000000</td>\n",
              "      <td>45.000000</td>\n",
              "      <td>1971.000000</td>\n",
              "      <td>15.600000</td>\n",
              "      <td>0.544000</td>\n",
              "      <td>0.288000</td>\n",
              "      <td>0.400000</td>\n",
              "      <td>9.000000</td>\n",
              "      <td>18.100000</td>\n",
              "      <td>13.500000</td>\n",
              "      <td>17.600000</td>\n",
              "      <td>2.100000</td>\n",
              "      <td>1.900000</td>\n",
              "      <td>17.700000</td>\n",
              "      <td>22.200000</td>\n",
              "      <td>NaN</td>\n",
              "      <td>1.900000</td>\n",
              "      <td>1.800000</td>\n",
              "      <td>3.800000</td>\n",
              "      <td>0.115000</td>\n",
              "      <td>NaN</td>\n",
              "      <td>0.300000</td>\n",
              "      <td>0.700000</td>\n",
              "      <td>0.300000</td>\n",
              "      <td>0.900000</td>\n",
              "      <td>299.000000</td>\n",
              "      <td>661.000000</td>\n",
              "      <td>0.480000</td>\n",
              "      <td>27.000000</td>\n",
              "      <td>84.000000</td>\n",
              "      <td>0.363000</td>\n",
              "      <td>268.000000</td>\n",
              "      <td>579.250000</td>\n",
              "      <td>0.496000</td>\n",
              "      <td>0.501000</td>\n",
              "      <td>149.000000</td>\n",
              "      <td>201.000000</td>\n",
              "      <td>0.808000</td>\n",
              "      <td>91.000000</td>\n",
              "      <td>212.000000</td>\n",
              "      <td>322.000000</td>\n",
              "      <td>160.000000</td>\n",
              "      <td>60.000000</td>\n",
              "      <td>29.000000</td>\n",
              "      <td>112.000000</td>\n",
              "      <td>182.000000</td>\n",
              "      <td>778.000000</td>\n",
              "      <td>0.000000</td>\n",
              "      <td>0.000000</td>\n",
              "    </tr>\n",
              "    <tr>\n",
              "      <th>max</th>\n",
              "      <td>24690.000000</td>\n",
              "      <td>2017.000000</td>\n",
              "      <td>44.000000</td>\n",
              "      <td>88.000000</td>\n",
              "      <td>83.000000</td>\n",
              "      <td>3882.000000</td>\n",
              "      <td>129.100000</td>\n",
              "      <td>1.136000</td>\n",
              "      <td>1.000000</td>\n",
              "      <td>6.000000</td>\n",
              "      <td>100.000000</td>\n",
              "      <td>100.000000</td>\n",
              "      <td>100.000000</td>\n",
              "      <td>100.000000</td>\n",
              "      <td>24.200000</td>\n",
              "      <td>77.800000</td>\n",
              "      <td>100.000000</td>\n",
              "      <td>100.000000</td>\n",
              "      <td>NaN</td>\n",
              "      <td>18.300000</td>\n",
              "      <td>16.000000</td>\n",
              "      <td>25.400000</td>\n",
              "      <td>2.123000</td>\n",
              "      <td>NaN</td>\n",
              "      <td>47.800000</td>\n",
              "      <td>46.800000</td>\n",
              "      <td>36.200000</td>\n",
              "      <td>12.400000</td>\n",
              "      <td>1597.000000</td>\n",
              "      <td>3159.000000</td>\n",
              "      <td>1.000000</td>\n",
              "      <td>402.000000</td>\n",
              "      <td>886.000000</td>\n",
              "      <td>1.000000</td>\n",
              "      <td>1597.000000</td>\n",
              "      <td>3159.000000</td>\n",
              "      <td>1.000000</td>\n",
              "      <td>1.500000</td>\n",
              "      <td>840.000000</td>\n",
              "      <td>1363.000000</td>\n",
              "      <td>1.000000</td>\n",
              "      <td>587.000000</td>\n",
              "      <td>1111.000000</td>\n",
              "      <td>2149.000000</td>\n",
              "      <td>1164.000000</td>\n",
              "      <td>301.000000</td>\n",
              "      <td>456.000000</td>\n",
              "      <td>464.000000</td>\n",
              "      <td>386.000000</td>\n",
              "      <td>4029.000000</td>\n",
              "      <td>1.000000</td>\n",
              "      <td>11.000000</td>\n",
              "    </tr>\n",
              "  </tbody>\n",
              "</table>\n",
              "</div>"
            ],
            "text/plain": [
              "         Unnamed: 0          Year           Age             G            GS  \\\n",
              "count  24624.000000  24624.000000  24616.000000  24624.000000  18233.000000   \n",
              "mean   12354.094989   1992.594989     26.664405     50.837110     23.593375   \n",
              "std     7125.490095     17.429594      3.841892     26.496161     28.632387   \n",
              "min        0.000000   1950.000000     18.000000      1.000000      0.000000   \n",
              "25%     6186.750000   1981.000000     24.000000     27.000000      0.000000   \n",
              "50%    12357.500000   1996.000000     26.000000     58.000000      8.000000   \n",
              "75%    18524.250000   2007.000000     29.000000     75.000000     45.000000   \n",
              "max    24690.000000   2017.000000     44.000000     88.000000     83.000000   \n",
              "\n",
              "                 MP           PER           TS%          3PAr           FTr  \\\n",
              "count  24138.000000  24101.000000  24538.000000  18839.000000  24525.000000   \n",
              "mean    1209.720317     12.479071      0.493001      0.158604      0.325455   \n",
              "std      941.146575      6.039014      0.094469      0.187495      0.218971   \n",
              "min        0.000000    -90.600000      0.000000      0.000000      0.000000   \n",
              "25%      340.000000      9.800000      0.458000      0.005000      0.208000   \n",
              "50%     1053.000000     12.700000      0.506000      0.064000      0.296000   \n",
              "75%     1971.000000     15.600000      0.544000      0.288000      0.400000   \n",
              "max     3882.000000    129.100000      1.136000      1.000000      6.000000   \n",
              "\n",
              "               ORB%          DRB%          TRB%          AST%          STL%  \\\n",
              "count  20792.000000  20792.000000  21571.000000  22555.000000  20792.000000   \n",
              "mean       6.181565     13.708657      9.949210     13.009962      1.648269   \n",
              "std        4.872685      6.636402      5.040283      9.191843      1.017024   \n",
              "min        0.000000      0.000000      0.000000      0.000000      0.000000   \n",
              "25%        2.600000      8.800000      5.900000      6.500000      1.100000   \n",
              "50%        5.400000     12.700000      9.200000     10.500000      1.500000   \n",
              "75%        9.000000     18.100000     13.500000     17.600000      2.100000   \n",
              "max      100.000000    100.000000    100.000000    100.000000     24.200000   \n",
              "\n",
              "               BLK%          TOV%          USG%  blanl           OWS  \\\n",
              "count  20792.000000  19582.000000  19640.000000    0.0  24585.000000   \n",
              "mean       1.410624     15.085099     18.906492    NaN      1.257307   \n",
              "std        1.773348      6.919170      5.448157    NaN      2.136256   \n",
              "min        0.000000      0.000000      0.000000    NaN     -5.100000   \n",
              "25%        0.300000     11.400000     15.400000    NaN     -0.100000   \n",
              "50%        0.900000     14.200000     18.600000    NaN      0.400000   \n",
              "75%        1.900000     17.700000     22.200000    NaN      1.900000   \n",
              "max       77.800000    100.000000    100.000000    NaN     18.300000   \n",
              "\n",
              "                DWS            WS         WS/48  blank2          OBPM  \\\n",
              "count  24585.000000  24585.000000  24101.000000     0.0  20797.000000   \n",
              "mean       1.227395      2.485796      0.065002     NaN     -1.778386   \n",
              "std        1.269613      3.058638      0.102471     NaN      3.792947   \n",
              "min       -1.000000     -2.800000     -2.519000     NaN    -73.800000   \n",
              "25%        0.200000      0.200000      0.031000     NaN     -3.400000   \n",
              "50%        0.800000      1.400000      0.075000     NaN     -1.500000   \n",
              "75%        1.800000      3.800000      0.115000     NaN      0.300000   \n",
              "max       16.000000     25.400000      2.123000     NaN     47.800000   \n",
              "\n",
              "               DBPM           BPM          VORP            FG           FGA  \\\n",
              "count  20797.000000  20797.000000  20797.000000  24624.000000  24624.000000   \n",
              "mean      -0.548570     -2.326720      0.559879    195.325820    430.645752   \n",
              "std        2.253106      4.691619      1.336892    188.114361    397.624715   \n",
              "min      -30.400000    -86.700000     -2.600000      0.000000      0.000000   \n",
              "25%       -1.700000     -4.200000     -0.200000     41.000000     99.000000   \n",
              "50%       -0.500000     -1.800000      0.000000    141.000000    321.000000   \n",
              "75%        0.700000      0.300000      0.900000    299.000000    661.000000   \n",
              "max       46.800000     36.200000     12.400000   1597.000000   3159.000000   \n",
              "\n",
              "                FG%            3P           3PA           3P%            2P  \\\n",
              "count  24525.000000  18927.000000  18927.000000  15416.000000  24624.000000   \n",
              "mean       0.430817     22.215037     63.604480      0.248796    178.250447   \n",
              "std        0.095921     38.543366    102.442769      0.176683    179.478923   \n",
              "min        0.000000      0.000000      0.000000      0.000000      0.000000   \n",
              "25%        0.393000      0.000000      1.000000      0.100000     35.000000   \n",
              "50%        0.439000      2.000000     11.000000      0.292000    122.000000   \n",
              "75%        0.480000     27.000000     84.000000      0.363000    268.000000   \n",
              "max        1.000000    402.000000    886.000000      1.000000   1597.000000   \n",
              "\n",
              "                2PA           2P%          eFG%            FT           FTA  \\\n",
              "count  24624.000000  24496.000000  24525.000000  24624.000000  24624.000000   \n",
              "mean     381.756782      0.445343      0.450658    102.389336    136.775219   \n",
              "std      371.260335      0.099803      0.099200    113.373565    146.078918   \n",
              "min        0.000000      0.000000      0.000000      0.000000      0.000000   \n",
              "25%       82.000000      0.407000      0.414000     18.000000     27.000000   \n",
              "50%      270.000000      0.456000      0.463000     63.000000     88.000000   \n",
              "75%      579.250000      0.496000      0.501000    149.000000    201.000000   \n",
              "max     3159.000000      1.000000      1.500000    840.000000   1363.000000   \n",
              "\n",
              "                FT%           ORB           DRB           TRB           AST  \\\n",
              "count  23766.000000  20797.000000  20797.000000  24312.000000  24624.000000   \n",
              "mean       0.719279     62.189210    147.199404    224.637381    114.852623   \n",
              "std        0.141824     67.324881    145.921912    228.190203    135.863913   \n",
              "min        0.000000      0.000000      0.000000      0.000000      0.000000   \n",
              "25%        0.657000     12.000000     33.000000     51.000000     19.000000   \n",
              "50%        0.743000     38.000000    106.000000    159.000000     68.000000   \n",
              "75%        0.808000     91.000000    212.000000    322.000000    160.000000   \n",
              "max        1.000000    587.000000   1111.000000   2149.000000   1164.000000   \n",
              "\n",
              "                STL           BLK           TOV            PF           PTS  \\\n",
              "count  20797.000000  20797.000000  19645.000000  24624.000000  24624.000000   \n",
              "mean      39.897052     24.470260     73.939832    116.339222    510.116350   \n",
              "std       38.713053     36.935084     67.713803     84.791873    492.922981   \n",
              "min        0.000000      0.000000      0.000000      0.000000      0.000000   \n",
              "25%        9.000000      3.000000     18.000000     39.000000    106.000000   \n",
              "50%       29.000000     11.000000     55.000000    109.000000    364.000000   \n",
              "75%       60.000000     29.000000    112.000000    182.000000    778.000000   \n",
              "max      301.000000    456.000000    464.000000    386.000000   4029.000000   \n",
              "\n",
              "           Champion  championships  \n",
              "count  24624.000000   24624.000000  \n",
              "mean       0.038499       0.228720  \n",
              "std        0.192402       0.707748  \n",
              "min        0.000000       0.000000  \n",
              "25%        0.000000       0.000000  \n",
              "50%        0.000000       0.000000  \n",
              "75%        0.000000       0.000000  \n",
              "max        1.000000      11.000000  "
            ]
          },
          "metadata": {
            "tags": []
          },
          "execution_count": 106
        }
      ]
    },
    {
      "cell_type": "code",
      "metadata": {
        "colab": {
          "base_uri": "https://localhost:8080/",
          "height": 297
        },
        "id": "fQK8Gr2NdoNe",
        "outputId": "5bb324ad-0ec4-4e50-b798-e74f13ac5494"
      },
      "source": [
        "# players.head()\n",
        "players.describe()"
      ],
      "execution_count": null,
      "outputs": [
        {
          "output_type": "execute_result",
          "data": {
            "text/html": [
              "<div>\n",
              "<style scoped>\n",
              "    .dataframe tbody tr th:only-of-type {\n",
              "        vertical-align: middle;\n",
              "    }\n",
              "\n",
              "    .dataframe tbody tr th {\n",
              "        vertical-align: top;\n",
              "    }\n",
              "\n",
              "    .dataframe thead th {\n",
              "        text-align: right;\n",
              "    }\n",
              "</style>\n",
              "<table border=\"1\" class=\"dataframe\">\n",
              "  <thead>\n",
              "    <tr style=\"text-align: right;\">\n",
              "      <th></th>\n",
              "      <th>Unnamed: 0</th>\n",
              "      <th>height</th>\n",
              "      <th>weight</th>\n",
              "      <th>born</th>\n",
              "    </tr>\n",
              "  </thead>\n",
              "  <tbody>\n",
              "    <tr>\n",
              "      <th>count</th>\n",
              "      <td>3922.000000</td>\n",
              "      <td>3921.000000</td>\n",
              "      <td>3921.000000</td>\n",
              "      <td>3921.00000</td>\n",
              "    </tr>\n",
              "    <tr>\n",
              "      <th>mean</th>\n",
              "      <td>1960.500000</td>\n",
              "      <td>198.704922</td>\n",
              "      <td>94.783219</td>\n",
              "      <td>1962.37975</td>\n",
              "    </tr>\n",
              "    <tr>\n",
              "      <th>std</th>\n",
              "      <td>1132.328206</td>\n",
              "      <td>9.269761</td>\n",
              "      <td>12.039515</td>\n",
              "      <td>20.33491</td>\n",
              "    </tr>\n",
              "    <tr>\n",
              "      <th>min</th>\n",
              "      <td>0.000000</td>\n",
              "      <td>160.000000</td>\n",
              "      <td>60.000000</td>\n",
              "      <td>1913.00000</td>\n",
              "    </tr>\n",
              "    <tr>\n",
              "      <th>25%</th>\n",
              "      <td>980.250000</td>\n",
              "      <td>190.000000</td>\n",
              "      <td>86.000000</td>\n",
              "      <td>1948.00000</td>\n",
              "    </tr>\n",
              "    <tr>\n",
              "      <th>50%</th>\n",
              "      <td>1960.500000</td>\n",
              "      <td>198.000000</td>\n",
              "      <td>95.000000</td>\n",
              "      <td>1964.00000</td>\n",
              "    </tr>\n",
              "    <tr>\n",
              "      <th>75%</th>\n",
              "      <td>2940.750000</td>\n",
              "      <td>206.000000</td>\n",
              "      <td>102.000000</td>\n",
              "      <td>1979.00000</td>\n",
              "    </tr>\n",
              "    <tr>\n",
              "      <th>max</th>\n",
              "      <td>3921.000000</td>\n",
              "      <td>231.000000</td>\n",
              "      <td>163.000000</td>\n",
              "      <td>1997.00000</td>\n",
              "    </tr>\n",
              "  </tbody>\n",
              "</table>\n",
              "</div>"
            ],
            "text/plain": [
              "        Unnamed: 0       height       weight        born\n",
              "count  3922.000000  3921.000000  3921.000000  3921.00000\n",
              "mean   1960.500000   198.704922    94.783219  1962.37975\n",
              "std    1132.328206     9.269761    12.039515    20.33491\n",
              "min       0.000000   160.000000    60.000000  1913.00000\n",
              "25%     980.250000   190.000000    86.000000  1948.00000\n",
              "50%    1960.500000   198.000000    95.000000  1964.00000\n",
              "75%    2940.750000   206.000000   102.000000  1979.00000\n",
              "max    3921.000000   231.000000   163.000000  1997.00000"
            ]
          },
          "metadata": {
            "tags": []
          },
          "execution_count": 10
        }
      ]
    },
    {
      "cell_type": "code",
      "metadata": {
        "colab": {
          "base_uri": "https://localhost:8080/",
          "height": 297
        },
        "id": "ATI9-KogdoNe",
        "outputId": "61c9691a-43de-4b03-e7d3-213a7d358d05"
      },
      "source": [
        "# players2.head()\n",
        "players2.describe()"
      ],
      "execution_count": null,
      "outputs": [
        {
          "output_type": "execute_result",
          "data": {
            "text/html": [
              "<div>\n",
              "<style scoped>\n",
              "    .dataframe tbody tr th:only-of-type {\n",
              "        vertical-align: middle;\n",
              "    }\n",
              "\n",
              "    .dataframe tbody tr th {\n",
              "        vertical-align: top;\n",
              "    }\n",
              "\n",
              "    .dataframe thead th {\n",
              "        text-align: right;\n",
              "    }\n",
              "</style>\n",
              "<table border=\"1\" class=\"dataframe\">\n",
              "  <thead>\n",
              "    <tr style=\"text-align: right;\">\n",
              "      <th></th>\n",
              "      <th>From</th>\n",
              "      <th>To</th>\n",
              "      <th>Wt</th>\n",
              "    </tr>\n",
              "  </thead>\n",
              "  <tbody>\n",
              "    <tr>\n",
              "      <th>count</th>\n",
              "      <td>4803.000000</td>\n",
              "      <td>4803.000000</td>\n",
              "      <td>4798.000000</td>\n",
              "    </tr>\n",
              "    <tr>\n",
              "      <th>mean</th>\n",
              "      <td>1986.881532</td>\n",
              "      <td>1991.054757</td>\n",
              "      <td>209.302626</td>\n",
              "    </tr>\n",
              "    <tr>\n",
              "      <th>std</th>\n",
              "      <td>21.803348</td>\n",
              "      <td>22.571265</td>\n",
              "      <td>26.170289</td>\n",
              "    </tr>\n",
              "    <tr>\n",
              "      <th>min</th>\n",
              "      <td>1947.000000</td>\n",
              "      <td>1947.000000</td>\n",
              "      <td>114.000000</td>\n",
              "    </tr>\n",
              "    <tr>\n",
              "      <th>25%</th>\n",
              "      <td>1970.000000</td>\n",
              "      <td>1974.000000</td>\n",
              "      <td>190.000000</td>\n",
              "    </tr>\n",
              "    <tr>\n",
              "      <th>50%</th>\n",
              "      <td>1989.000000</td>\n",
              "      <td>1994.000000</td>\n",
              "      <td>210.000000</td>\n",
              "    </tr>\n",
              "    <tr>\n",
              "      <th>75%</th>\n",
              "      <td>2006.000000</td>\n",
              "      <td>2012.000000</td>\n",
              "      <td>225.000000</td>\n",
              "    </tr>\n",
              "    <tr>\n",
              "      <th>max</th>\n",
              "      <td>2020.000000</td>\n",
              "      <td>2020.000000</td>\n",
              "      <td>360.000000</td>\n",
              "    </tr>\n",
              "  </tbody>\n",
              "</table>\n",
              "</div>"
            ],
            "text/plain": [
              "              From           To           Wt\n",
              "count  4803.000000  4803.000000  4798.000000\n",
              "mean   1986.881532  1991.054757   209.302626\n",
              "std      21.803348    22.571265    26.170289\n",
              "min    1947.000000  1947.000000   114.000000\n",
              "25%    1970.000000  1974.000000   190.000000\n",
              "50%    1989.000000  1994.000000   210.000000\n",
              "75%    2006.000000  2012.000000   225.000000\n",
              "max    2020.000000  2020.000000   360.000000"
            ]
          },
          "metadata": {
            "tags": []
          },
          "execution_count": 11
        }
      ]
    },
    {
      "cell_type": "code",
      "metadata": {
        "id": "3iJmfAnYdoNf"
      },
      "source": [
        "combined_df = players2.merge(players, how=\"left\", left_on=\"player_name\", right_on=\"Player\")"
      ],
      "execution_count": null,
      "outputs": []
    },
    {
      "cell_type": "code",
      "metadata": {
        "id": "T3WV042GdoNf"
      },
      "source": [
        "combined_df = combined_df[['player_name','player_ref_id','From','To','height','weight','Birth Date','Pos','Colleges']]"
      ],
      "execution_count": null,
      "outputs": []
    },
    {
      "cell_type": "code",
      "metadata": {
        "colab": {
          "base_uri": "https://localhost:8080/",
          "height": 204
        },
        "id": "4GebPeHZdoNf",
        "outputId": "04313ba9-e157-4f1f-a92a-b0a7680f4e29"
      },
      "source": [
        "combined_df.head()"
      ],
      "execution_count": null,
      "outputs": [
        {
          "output_type": "execute_result",
          "data": {
            "text/html": [
              "<div>\n",
              "<style scoped>\n",
              "    .dataframe tbody tr th:only-of-type {\n",
              "        vertical-align: middle;\n",
              "    }\n",
              "\n",
              "    .dataframe tbody tr th {\n",
              "        vertical-align: top;\n",
              "    }\n",
              "\n",
              "    .dataframe thead th {\n",
              "        text-align: right;\n",
              "    }\n",
              "</style>\n",
              "<table border=\"1\" class=\"dataframe\">\n",
              "  <thead>\n",
              "    <tr style=\"text-align: right;\">\n",
              "      <th></th>\n",
              "      <th>player_name</th>\n",
              "      <th>player_ref_id</th>\n",
              "      <th>From</th>\n",
              "      <th>To</th>\n",
              "      <th>height</th>\n",
              "      <th>weight</th>\n",
              "      <th>Birth Date</th>\n",
              "      <th>Pos</th>\n",
              "      <th>Colleges</th>\n",
              "    </tr>\n",
              "  </thead>\n",
              "  <tbody>\n",
              "    <tr>\n",
              "      <th>0</th>\n",
              "      <td>Alaa Abdelnaby</td>\n",
              "      <td>abdelal01</td>\n",
              "      <td>1991</td>\n",
              "      <td>1995</td>\n",
              "      <td>208.0</td>\n",
              "      <td>108.0</td>\n",
              "      <td>June 24 1968</td>\n",
              "      <td>F-C</td>\n",
              "      <td>Duke</td>\n",
              "    </tr>\n",
              "    <tr>\n",
              "      <th>1</th>\n",
              "      <td>Zaid Abdul-Aziz</td>\n",
              "      <td>abdulza01</td>\n",
              "      <td>1969</td>\n",
              "      <td>1978</td>\n",
              "      <td>206.0</td>\n",
              "      <td>106.0</td>\n",
              "      <td>April 7 1946</td>\n",
              "      <td>C-F</td>\n",
              "      <td>Iowa State</td>\n",
              "    </tr>\n",
              "    <tr>\n",
              "      <th>2</th>\n",
              "      <td>Kareem Abdul-Jabbar*</td>\n",
              "      <td>abdulka01</td>\n",
              "      <td>1970</td>\n",
              "      <td>1989</td>\n",
              "      <td>218.0</td>\n",
              "      <td>102.0</td>\n",
              "      <td>April 16 1947</td>\n",
              "      <td>C</td>\n",
              "      <td>UCLA</td>\n",
              "    </tr>\n",
              "    <tr>\n",
              "      <th>3</th>\n",
              "      <td>Mahmoud Abdul-Rauf</td>\n",
              "      <td>abdulma02</td>\n",
              "      <td>1991</td>\n",
              "      <td>2001</td>\n",
              "      <td>188.0</td>\n",
              "      <td>83.0</td>\n",
              "      <td>March 9 1969</td>\n",
              "      <td>G</td>\n",
              "      <td>LSU</td>\n",
              "    </tr>\n",
              "    <tr>\n",
              "      <th>4</th>\n",
              "      <td>Tariq Abdul-Wahad</td>\n",
              "      <td>abdulta01</td>\n",
              "      <td>1998</td>\n",
              "      <td>2003</td>\n",
              "      <td>198.0</td>\n",
              "      <td>101.0</td>\n",
              "      <td>November 3 1974</td>\n",
              "      <td>F</td>\n",
              "      <td>Michigan San Jose State</td>\n",
              "    </tr>\n",
              "  </tbody>\n",
              "</table>\n",
              "</div>"
            ],
            "text/plain": [
              "            player_name player_ref_id  From    To  height  weight  \\\n",
              "0        Alaa Abdelnaby     abdelal01  1991  1995   208.0   108.0   \n",
              "1       Zaid Abdul-Aziz     abdulza01  1969  1978   206.0   106.0   \n",
              "2  Kareem Abdul-Jabbar*     abdulka01  1970  1989   218.0   102.0   \n",
              "3    Mahmoud Abdul-Rauf     abdulma02  1991  2001   188.0    83.0   \n",
              "4     Tariq Abdul-Wahad     abdulta01  1998  2003   198.0   101.0   \n",
              "\n",
              "        Birth Date  Pos                 Colleges  \n",
              "0     June 24 1968  F-C                     Duke  \n",
              "1     April 7 1946  C-F               Iowa State  \n",
              "2    April 16 1947    C                     UCLA  \n",
              "3     March 9 1969    G                      LSU  \n",
              "4  November 3 1974    F  Michigan San Jose State  "
            ]
          },
          "metadata": {
            "tags": []
          },
          "execution_count": 14
        }
      ]
    },
    {
      "cell_type": "markdown",
      "metadata": {
        "id": "25Sv9NVxdoNg"
      },
      "source": [
        "We now have basic player information for all the players matched with their player ids. The Basketball Reference website tells us that from the list of active and inactive players, players with a * at the end of their name are part of the Hall of Fame.\n",
        "\n",
        "We decided to use Hall of Fame as a base to include all-time greats such as Kareem Abdul Jabbar and Bill Russell into our analysis. We also decided to include players that are active or recently retired. Active players because they shouldn't be left out just because they have not been inducted into the Hall of Fame, and recently retired players because a player can be on the Hall of Fame ballot for many years."
      ]
    },
    {
      "cell_type": "code",
      "metadata": {
        "id": "TiIiA2ovdoNg"
      },
      "source": [
        "analysis_data = combined_df[(combined_df.player_name.str.match(\".*[*]\")) | (combined_df['To']>=2005)]"
      ],
      "execution_count": null,
      "outputs": []
    },
    {
      "cell_type": "markdown",
      "metadata": {
        "id": "ucq8OhHgdoNh"
      },
      "source": [
        "Let's see how many Hall of Famers we have from this data to get a sense of whether our data has the necessary players and basic player information"
      ]
    },
    {
      "cell_type": "code",
      "metadata": {
        "colab": {
          "base_uri": "https://localhost:8080/"
        },
        "id": "OF1XDIHDdoNh",
        "outputId": "ae6c3be3-2b19-47fc-c6d1-ec70fbb9535d"
      },
      "source": [
        "combined_df[(combined_df.player_name.str.match(\".*[*]\"))].shape"
      ],
      "execution_count": null,
      "outputs": [
        {
          "output_type": "execute_result",
          "data": {
            "text/plain": [
              "(152, 9)"
            ]
          },
          "metadata": {
            "tags": []
          },
          "execution_count": 16
        }
      ]
    },
    {
      "cell_type": "markdown",
      "metadata": {
        "id": "ReeVa9EhdoNi"
      },
      "source": [
        "We see that all the players are in this output are Hall of Famers (denoted by the star in their name according to Basketball Reference) and that all of the basic player information is available the way we need it.\n",
        "\n",
        "In order to scrape more detailed information from the Basketball Reference website, we use the sportsreference API to call it and get each player's [advanced statistics](https://www.basketball-reference.com/players/a/abdulka01.html)(For more information on how each of these advanced statistics are defined, visit the link and hover over the particular column to get the definition of that statistic).\n",
        "\n",
        "Each player's detailed statistics contains information that provides us with insight into the kind of player they were, which season's they played for. what were the statistics for each of those seasons, how did they perform throughout their career, what were their salaries through each season etc. For the purposes of our analysis, we are going to look at total career statistics and see averages and other trends in overall career statistics to carry out our analysis."
      ]
    },
    {
      "cell_type": "code",
      "metadata": {
        "colab": {
          "base_uri": "https://localhost:8080/"
        },
        "id": "7qpne9jIdoNi",
        "outputId": "71c6323d-14ec-4e19-8102-d820557a851f"
      },
      "source": [
        "analysis_data['player_name'].describe()"
      ],
      "execution_count": null,
      "outputs": [
        {
          "output_type": "execute_result",
          "data": {
            "text/plain": [
              "count           1851\n",
              "unique          1845\n",
              "top       Mike James\n",
              "freq               2\n",
              "Name: player_name, dtype: object"
            ]
          },
          "metadata": {
            "tags": []
          },
          "execution_count": 17
        }
      ]
    },
    {
      "cell_type": "code",
      "metadata": {
        "colab": {
          "base_uri": "https://localhost:8080/",
          "height": 204
        },
        "id": "rTQCgbNRdoNj",
        "outputId": "04c35589-6795-4ecd-9afe-6ab7b30aa46c"
      },
      "source": [
        "analysis_data.head()"
      ],
      "execution_count": null,
      "outputs": [
        {
          "output_type": "execute_result",
          "data": {
            "text/html": [
              "<div>\n",
              "<style scoped>\n",
              "    .dataframe tbody tr th:only-of-type {\n",
              "        vertical-align: middle;\n",
              "    }\n",
              "\n",
              "    .dataframe tbody tr th {\n",
              "        vertical-align: top;\n",
              "    }\n",
              "\n",
              "    .dataframe thead th {\n",
              "        text-align: right;\n",
              "    }\n",
              "</style>\n",
              "<table border=\"1\" class=\"dataframe\">\n",
              "  <thead>\n",
              "    <tr style=\"text-align: right;\">\n",
              "      <th></th>\n",
              "      <th>player_name</th>\n",
              "      <th>player_ref_id</th>\n",
              "      <th>From</th>\n",
              "      <th>To</th>\n",
              "      <th>height</th>\n",
              "      <th>weight</th>\n",
              "      <th>Birth Date</th>\n",
              "      <th>Pos</th>\n",
              "      <th>Colleges</th>\n",
              "    </tr>\n",
              "  </thead>\n",
              "  <tbody>\n",
              "    <tr>\n",
              "      <th>2</th>\n",
              "      <td>Kareem Abdul-Jabbar*</td>\n",
              "      <td>abdulka01</td>\n",
              "      <td>1970</td>\n",
              "      <td>1989</td>\n",
              "      <td>218.0</td>\n",
              "      <td>102.0</td>\n",
              "      <td>April 16 1947</td>\n",
              "      <td>C</td>\n",
              "      <td>UCLA</td>\n",
              "    </tr>\n",
              "    <tr>\n",
              "      <th>5</th>\n",
              "      <td>Shareef Abdur-Rahim</td>\n",
              "      <td>abdursh01</td>\n",
              "      <td>1997</td>\n",
              "      <td>2008</td>\n",
              "      <td>206.0</td>\n",
              "      <td>102.0</td>\n",
              "      <td>December 11 1976</td>\n",
              "      <td>F</td>\n",
              "      <td>California</td>\n",
              "    </tr>\n",
              "    <tr>\n",
              "      <th>9</th>\n",
              "      <td>Álex Abrines</td>\n",
              "      <td>abrinal01</td>\n",
              "      <td>2017</td>\n",
              "      <td>2019</td>\n",
              "      <td>NaN</td>\n",
              "      <td>NaN</td>\n",
              "      <td>August 1 1993</td>\n",
              "      <td>G-F</td>\n",
              "      <td>NaN</td>\n",
              "    </tr>\n",
              "    <tr>\n",
              "      <th>10</th>\n",
              "      <td>Alex Acker</td>\n",
              "      <td>ackeral01</td>\n",
              "      <td>2006</td>\n",
              "      <td>2009</td>\n",
              "      <td>196.0</td>\n",
              "      <td>83.0</td>\n",
              "      <td>January 21 1983</td>\n",
              "      <td>G</td>\n",
              "      <td>Pepperdine</td>\n",
              "    </tr>\n",
              "    <tr>\n",
              "      <th>14</th>\n",
              "      <td>Quincy Acy</td>\n",
              "      <td>acyqu01</td>\n",
              "      <td>2013</td>\n",
              "      <td>2019</td>\n",
              "      <td>201.0</td>\n",
              "      <td>108.0</td>\n",
              "      <td>October 6 1990</td>\n",
              "      <td>F-C</td>\n",
              "      <td>Baylor</td>\n",
              "    </tr>\n",
              "  </tbody>\n",
              "</table>\n",
              "</div>"
            ],
            "text/plain": [
              "             player_name player_ref_id  From    To  height  weight  \\\n",
              "2   Kareem Abdul-Jabbar*     abdulka01  1970  1989   218.0   102.0   \n",
              "5    Shareef Abdur-Rahim     abdursh01  1997  2008   206.0   102.0   \n",
              "9           Álex Abrines     abrinal01  2017  2019     NaN     NaN   \n",
              "10            Alex Acker     ackeral01  2006  2009   196.0    83.0   \n",
              "14            Quincy Acy       acyqu01  2013  2019   201.0   108.0   \n",
              "\n",
              "          Birth Date  Pos    Colleges  \n",
              "2      April 16 1947    C        UCLA  \n",
              "5   December 11 1976    F  California  \n",
              "9      August 1 1993  G-F         NaN  \n",
              "10   January 21 1983    G  Pepperdine  \n",
              "14    October 6 1990  F-C      Baylor  "
            ]
          },
          "metadata": {
            "tags": []
          },
          "execution_count": 18
        }
      ]
    },
    {
      "cell_type": "markdown",
      "metadata": {
        "id": "8gbTgWwWdoNj"
      },
      "source": [
        "Below, we define a function to gather detailed player statistics by using the [basketball reference api](https://www.basketball-reference.com/) that we've imported above and see player statistics."
      ]
    },
    {
      "cell_type": "code",
      "metadata": {
        "id": "Uzr-8awfdoNk"
      },
      "source": [
        "def detailed_player_stats(ref_id):\n",
        "    player = Player(ref_id)\n",
        "    points = player.points\n",
        "    games = player.games_played\n",
        "    rebounds = player.total_rebounds\n",
        "    assists = player.assists\n",
        "    steals = player.steals\n",
        "    blocks = player.blocks\n",
        "    mins_played = player.minutes_played\n",
        "    ppg = points / games if points else None\n",
        "    rbg = rebounds / games if rebounds else None\n",
        "    astpg = assists / games if assists else None\n",
        "    efgp = player.effective_field_goal_percentage\n",
        "    per = player.player_efficiency_rating\n",
        "    ws = player.win_shares\n",
        "    vorp = player.value_over_replacement_player\n",
        "    tsp = player.true_shooting_percentage\n",
        "    spg = steals / games if steals else -1\n",
        "    bpg = blocks / games if blocks else -1\n",
        "    min_pg = mins_played / games if mins_played else None\n",
        "    box_plus_minus = player.box_plus_minus\n",
        "\n",
        "    player_entry = {'player_ref_id': ref_id,\n",
        "                    'points_per_game': ppg,\n",
        "                    'rebounds_per_game': rbg,\n",
        "                    'assists_per_game': astpg,\n",
        "                    'effective_fgp': efgp,\n",
        "                    'efficiency_rating' : per,\n",
        "                    'win_shares' : ws,\n",
        "                    'value_over_replacement' : vorp,\n",
        "                    'true_shooting_pct': tsp,\n",
        "                    'steals_per_game': spg,\n",
        "                    'blocks_per_game': bpg,\n",
        "                    'minutes_per_game': min_pg}\n",
        "\n",
        "    return player_entry"
      ],
      "execution_count": null,
      "outputs": []
    },
    {
      "cell_type": "code",
      "metadata": {
        "scrolled": false,
        "id": "zN_xbP8QdoNk"
      },
      "source": [
        "players_stats_det = []\n",
        "for i, idx in enumerate(analysis_data.player_ref_id):\n",
        "    try:\n",
        "        players_stats_det.append(detailed_player_stats(idx))\n",
        "    except:\n",
        "        print(idx)\n",
        "players_stats_df = pd.DataFrame(players_stats_det) # convert to dateframe "
      ],
      "execution_count": null,
      "outputs": []
    },
    {
      "cell_type": "markdown",
      "metadata": {
        "id": "xwqQFKLWdoNl"
      },
      "source": [
        "Let us use our detailed stats function to get  the detailed statistics of all players using their reference ids (for Basketball Reference) and save it in a dataframe to use later."
      ]
    },
    {
      "cell_type": "markdown",
      "metadata": {
        "id": "DM8pEqIpdoNm"
      },
      "source": [
        "We ran this piece of code in Google Colab as it takes a while to create this advanced stats dataframe for all 1850 players. we saved that dataframe from running this piece of code in Google Colab as a csv that we import for further usage from below."
      ]
    },
    {
      "cell_type": "code",
      "metadata": {
        "id": "0OsAYsP4doNm"
      },
      "source": [
        "players_stats_df.to_csv('player_detailed_stats.csv', index=False)"
      ],
      "execution_count": null,
      "outputs": []
    },
    {
      "cell_type": "code",
      "metadata": {
        "id": "cQDQfoKpdoNm"
      },
      "source": [
        "from google.colab import files\n",
        "files.download(\"player_detailed_stats.csv\")"
      ],
      "execution_count": null,
      "outputs": []
    },
    {
      "cell_type": "markdown",
      "metadata": {
        "id": "FeM0WJn0doNn"
      },
      "source": [
        "Now that we have players' personal details such as height, weight, which college they attended and birth date in one dataframe, and players' advanced statistics like player efficiency rating, true shooting percentage, points per game, etc. in another dataframe, let's merge both dataframes together to create one huge dataframe of all player details."
      ]
    },
    {
      "cell_type": "code",
      "metadata": {
        "id": "d540WHKZdoNn"
      },
      "source": [
        "players_stats_df = pd.read_csv(\"player_detailed_stats.csv\")"
      ],
      "execution_count": null,
      "outputs": []
    },
    {
      "cell_type": "code",
      "metadata": {
        "scrolled": true,
        "colab": {
          "base_uri": "https://localhost:8080/",
          "height": 204
        },
        "id": "cNRJ4xEqdoNo",
        "outputId": "61e074eb-fd9d-4144-b20b-f3ea8548896e"
      },
      "source": [
        "players_stats_df.head()"
      ],
      "execution_count": null,
      "outputs": [
        {
          "output_type": "execute_result",
          "data": {
            "text/html": [
              "<div>\n",
              "<style scoped>\n",
              "    .dataframe tbody tr th:only-of-type {\n",
              "        vertical-align: middle;\n",
              "    }\n",
              "\n",
              "    .dataframe tbody tr th {\n",
              "        vertical-align: top;\n",
              "    }\n",
              "\n",
              "    .dataframe thead th {\n",
              "        text-align: right;\n",
              "    }\n",
              "</style>\n",
              "<table border=\"1\" class=\"dataframe\">\n",
              "  <thead>\n",
              "    <tr style=\"text-align: right;\">\n",
              "      <th></th>\n",
              "      <th>player_ref_id</th>\n",
              "      <th>points_per_game</th>\n",
              "      <th>rebounds_per_game</th>\n",
              "      <th>assists_per_game</th>\n",
              "      <th>effective_fgp</th>\n",
              "      <th>efficiency_rating</th>\n",
              "      <th>win_shares</th>\n",
              "      <th>value_over_replacement</th>\n",
              "      <th>true_shooting_pct</th>\n",
              "      <th>steals_per_game</th>\n",
              "      <th>blocks_per_game</th>\n",
              "      <th>minutes_per_game</th>\n",
              "    </tr>\n",
              "  </thead>\n",
              "  <tbody>\n",
              "    <tr>\n",
              "      <th>0</th>\n",
              "      <td>abdulka01</td>\n",
              "      <td>24.607051</td>\n",
              "      <td>11.179487</td>\n",
              "      <td>3.628205</td>\n",
              "      <td>0.559</td>\n",
              "      <td>24.6</td>\n",
              "      <td>273.4</td>\n",
              "      <td>85.7</td>\n",
              "      <td>0.592</td>\n",
              "      <td>0.743590</td>\n",
              "      <td>2.044231</td>\n",
              "      <td>36.824359</td>\n",
              "    </tr>\n",
              "    <tr>\n",
              "      <th>1</th>\n",
              "      <td>abdursh01</td>\n",
              "      <td>18.106024</td>\n",
              "      <td>7.516867</td>\n",
              "      <td>2.540964</td>\n",
              "      <td>0.479</td>\n",
              "      <td>19.0</td>\n",
              "      <td>71.2</td>\n",
              "      <td>21.9</td>\n",
              "      <td>0.549</td>\n",
              "      <td>0.987952</td>\n",
              "      <td>0.768675</td>\n",
              "      <td>34.797590</td>\n",
              "    </tr>\n",
              "    <tr>\n",
              "      <th>2</th>\n",
              "      <td>abrinal01</td>\n",
              "      <td>5.310345</td>\n",
              "      <td>1.425287</td>\n",
              "      <td>0.505747</td>\n",
              "      <td>0.525</td>\n",
              "      <td>8.8</td>\n",
              "      <td>5.0</td>\n",
              "      <td>0.1</td>\n",
              "      <td>0.552</td>\n",
              "      <td>0.528736</td>\n",
              "      <td>0.126437</td>\n",
              "      <td>15.959770</td>\n",
              "    </tr>\n",
              "    <tr>\n",
              "      <th>3</th>\n",
              "      <td>ackeral01</td>\n",
              "      <td>2.700000</td>\n",
              "      <td>0.966667</td>\n",
              "      <td>0.533333</td>\n",
              "      <td>0.413</td>\n",
              "      <td>8.5</td>\n",
              "      <td>-0.2</td>\n",
              "      <td>-0.2</td>\n",
              "      <td>0.420</td>\n",
              "      <td>0.200000</td>\n",
              "      <td>0.133333</td>\n",
              "      <td>7.800000</td>\n",
              "    </tr>\n",
              "    <tr>\n",
              "      <th>4</th>\n",
              "      <td>acyqu01</td>\n",
              "      <td>4.872404</td>\n",
              "      <td>3.498516</td>\n",
              "      <td>0.643917</td>\n",
              "      <td>0.513</td>\n",
              "      <td>11.2</td>\n",
              "      <td>8.7</td>\n",
              "      <td>-0.1</td>\n",
              "      <td>0.553</td>\n",
              "      <td>0.415430</td>\n",
              "      <td>0.400593</td>\n",
              "      <td>16.000000</td>\n",
              "    </tr>\n",
              "  </tbody>\n",
              "</table>\n",
              "</div>"
            ],
            "text/plain": [
              "  player_ref_id  points_per_game  rebounds_per_game  assists_per_game  \\\n",
              "0     abdulka01        24.607051          11.179487          3.628205   \n",
              "1     abdursh01        18.106024           7.516867          2.540964   \n",
              "2     abrinal01         5.310345           1.425287          0.505747   \n",
              "3     ackeral01         2.700000           0.966667          0.533333   \n",
              "4       acyqu01         4.872404           3.498516          0.643917   \n",
              "\n",
              "   effective_fgp  efficiency_rating  win_shares  value_over_replacement  \\\n",
              "0          0.559               24.6       273.4                    85.7   \n",
              "1          0.479               19.0        71.2                    21.9   \n",
              "2          0.525                8.8         5.0                     0.1   \n",
              "3          0.413                8.5        -0.2                    -0.2   \n",
              "4          0.513               11.2         8.7                    -0.1   \n",
              "\n",
              "   true_shooting_pct  steals_per_game  blocks_per_game  minutes_per_game  \n",
              "0              0.592         0.743590         2.044231         36.824359  \n",
              "1              0.549         0.987952         0.768675         34.797590  \n",
              "2              0.552         0.528736         0.126437         15.959770  \n",
              "3              0.420         0.200000         0.133333          7.800000  \n",
              "4              0.553         0.415430         0.400593         16.000000  "
            ]
          },
          "metadata": {
            "tags": []
          },
          "execution_count": 21
        }
      ]
    },
    {
      "cell_type": "code",
      "metadata": {
        "id": "JWTH_BzIdoNo"
      },
      "source": [
        "players3 = analysis_data.merge(players_stats_df, how='inner', left_on='player_ref_id', right_on='player_ref_id')"
      ],
      "execution_count": null,
      "outputs": []
    },
    {
      "cell_type": "code",
      "metadata": {
        "colab": {
          "base_uri": "https://localhost:8080/",
          "height": 343
        },
        "id": "RMDRrOFidoNp",
        "outputId": "aef867ad-a40c-43c2-eca8-844a7e817916"
      },
      "source": [
        "players3.head()"
      ],
      "execution_count": null,
      "outputs": [
        {
          "output_type": "execute_result",
          "data": {
            "text/html": [
              "<div>\n",
              "<style scoped>\n",
              "    .dataframe tbody tr th:only-of-type {\n",
              "        vertical-align: middle;\n",
              "    }\n",
              "\n",
              "    .dataframe tbody tr th {\n",
              "        vertical-align: top;\n",
              "    }\n",
              "\n",
              "    .dataframe thead th {\n",
              "        text-align: right;\n",
              "    }\n",
              "</style>\n",
              "<table border=\"1\" class=\"dataframe\">\n",
              "  <thead>\n",
              "    <tr style=\"text-align: right;\">\n",
              "      <th></th>\n",
              "      <th>player_name</th>\n",
              "      <th>player_ref_id</th>\n",
              "      <th>From</th>\n",
              "      <th>To</th>\n",
              "      <th>height</th>\n",
              "      <th>weight</th>\n",
              "      <th>Birth Date</th>\n",
              "      <th>Pos</th>\n",
              "      <th>Colleges</th>\n",
              "      <th>points_per_game</th>\n",
              "      <th>rebounds_per_game</th>\n",
              "      <th>assists_per_game</th>\n",
              "      <th>effective_fgp</th>\n",
              "      <th>efficiency_rating</th>\n",
              "      <th>win_shares</th>\n",
              "      <th>value_over_replacement</th>\n",
              "      <th>true_shooting_pct</th>\n",
              "      <th>steals_per_game</th>\n",
              "      <th>blocks_per_game</th>\n",
              "      <th>minutes_per_game</th>\n",
              "    </tr>\n",
              "  </thead>\n",
              "  <tbody>\n",
              "    <tr>\n",
              "      <th>0</th>\n",
              "      <td>Kareem Abdul-Jabbar*</td>\n",
              "      <td>abdulka01</td>\n",
              "      <td>1970</td>\n",
              "      <td>1989</td>\n",
              "      <td>218.0</td>\n",
              "      <td>102.0</td>\n",
              "      <td>April 16 1947</td>\n",
              "      <td>C</td>\n",
              "      <td>UCLA</td>\n",
              "      <td>24.607051</td>\n",
              "      <td>11.179487</td>\n",
              "      <td>3.628205</td>\n",
              "      <td>0.559</td>\n",
              "      <td>24.6</td>\n",
              "      <td>273.4</td>\n",
              "      <td>85.7</td>\n",
              "      <td>0.592</td>\n",
              "      <td>0.743590</td>\n",
              "      <td>2.044231</td>\n",
              "      <td>36.824359</td>\n",
              "    </tr>\n",
              "    <tr>\n",
              "      <th>1</th>\n",
              "      <td>Shareef Abdur-Rahim</td>\n",
              "      <td>abdursh01</td>\n",
              "      <td>1997</td>\n",
              "      <td>2008</td>\n",
              "      <td>206.0</td>\n",
              "      <td>102.0</td>\n",
              "      <td>December 11 1976</td>\n",
              "      <td>F</td>\n",
              "      <td>California</td>\n",
              "      <td>18.106024</td>\n",
              "      <td>7.516867</td>\n",
              "      <td>2.540964</td>\n",
              "      <td>0.479</td>\n",
              "      <td>19.0</td>\n",
              "      <td>71.2</td>\n",
              "      <td>21.9</td>\n",
              "      <td>0.549</td>\n",
              "      <td>0.987952</td>\n",
              "      <td>0.768675</td>\n",
              "      <td>34.797590</td>\n",
              "    </tr>\n",
              "    <tr>\n",
              "      <th>2</th>\n",
              "      <td>Álex Abrines</td>\n",
              "      <td>abrinal01</td>\n",
              "      <td>2017</td>\n",
              "      <td>2019</td>\n",
              "      <td>NaN</td>\n",
              "      <td>NaN</td>\n",
              "      <td>August 1 1993</td>\n",
              "      <td>G-F</td>\n",
              "      <td>NaN</td>\n",
              "      <td>5.310345</td>\n",
              "      <td>1.425287</td>\n",
              "      <td>0.505747</td>\n",
              "      <td>0.525</td>\n",
              "      <td>8.8</td>\n",
              "      <td>5.0</td>\n",
              "      <td>0.1</td>\n",
              "      <td>0.552</td>\n",
              "      <td>0.528736</td>\n",
              "      <td>0.126437</td>\n",
              "      <td>15.959770</td>\n",
              "    </tr>\n",
              "    <tr>\n",
              "      <th>3</th>\n",
              "      <td>Alex Acker</td>\n",
              "      <td>ackeral01</td>\n",
              "      <td>2006</td>\n",
              "      <td>2009</td>\n",
              "      <td>196.0</td>\n",
              "      <td>83.0</td>\n",
              "      <td>January 21 1983</td>\n",
              "      <td>G</td>\n",
              "      <td>Pepperdine</td>\n",
              "      <td>2.700000</td>\n",
              "      <td>0.966667</td>\n",
              "      <td>0.533333</td>\n",
              "      <td>0.413</td>\n",
              "      <td>8.5</td>\n",
              "      <td>-0.2</td>\n",
              "      <td>-0.2</td>\n",
              "      <td>0.420</td>\n",
              "      <td>0.200000</td>\n",
              "      <td>0.133333</td>\n",
              "      <td>7.800000</td>\n",
              "    </tr>\n",
              "    <tr>\n",
              "      <th>4</th>\n",
              "      <td>Quincy Acy</td>\n",
              "      <td>acyqu01</td>\n",
              "      <td>2013</td>\n",
              "      <td>2019</td>\n",
              "      <td>201.0</td>\n",
              "      <td>108.0</td>\n",
              "      <td>October 6 1990</td>\n",
              "      <td>F-C</td>\n",
              "      <td>Baylor</td>\n",
              "      <td>4.872404</td>\n",
              "      <td>3.498516</td>\n",
              "      <td>0.643917</td>\n",
              "      <td>0.513</td>\n",
              "      <td>11.2</td>\n",
              "      <td>8.7</td>\n",
              "      <td>-0.1</td>\n",
              "      <td>0.553</td>\n",
              "      <td>0.415430</td>\n",
              "      <td>0.400593</td>\n",
              "      <td>16.000000</td>\n",
              "    </tr>\n",
              "  </tbody>\n",
              "</table>\n",
              "</div>"
            ],
            "text/plain": [
              "            player_name player_ref_id  From    To  height  weight  \\\n",
              "0  Kareem Abdul-Jabbar*     abdulka01  1970  1989   218.0   102.0   \n",
              "1   Shareef Abdur-Rahim     abdursh01  1997  2008   206.0   102.0   \n",
              "2          Álex Abrines     abrinal01  2017  2019     NaN     NaN   \n",
              "3            Alex Acker     ackeral01  2006  2009   196.0    83.0   \n",
              "4            Quincy Acy       acyqu01  2013  2019   201.0   108.0   \n",
              "\n",
              "         Birth Date  Pos    Colleges  points_per_game  rebounds_per_game  \\\n",
              "0     April 16 1947    C        UCLA        24.607051          11.179487   \n",
              "1  December 11 1976    F  California        18.106024           7.516867   \n",
              "2     August 1 1993  G-F         NaN         5.310345           1.425287   \n",
              "3   January 21 1983    G  Pepperdine         2.700000           0.966667   \n",
              "4    October 6 1990  F-C      Baylor         4.872404           3.498516   \n",
              "\n",
              "   assists_per_game  effective_fgp  efficiency_rating  win_shares  \\\n",
              "0          3.628205          0.559               24.6       273.4   \n",
              "1          2.540964          0.479               19.0        71.2   \n",
              "2          0.505747          0.525                8.8         5.0   \n",
              "3          0.533333          0.413                8.5        -0.2   \n",
              "4          0.643917          0.513               11.2         8.7   \n",
              "\n",
              "   value_over_replacement  true_shooting_pct  steals_per_game  \\\n",
              "0                    85.7              0.592         0.743590   \n",
              "1                    21.9              0.549         0.987952   \n",
              "2                     0.1              0.552         0.528736   \n",
              "3                    -0.2              0.420         0.200000   \n",
              "4                    -0.1              0.553         0.415430   \n",
              "\n",
              "   blocks_per_game  minutes_per_game  \n",
              "0         2.044231         36.824359  \n",
              "1         0.768675         34.797590  \n",
              "2         0.126437         15.959770  \n",
              "3         0.133333          7.800000  \n",
              "4         0.400593         16.000000  "
            ]
          },
          "metadata": {
            "tags": []
          },
          "execution_count": 23
        }
      ]
    },
    {
      "cell_type": "markdown",
      "metadata": {
        "id": "Xq35dwzYdoNp"
      },
      "source": [
        "We decided to filter out all players that had data missing for their steals or blocks and that played less than 10 mins per game. An NBA game is 48 mins and any player that is in the discussion for **'Hall of Fame'** has played at least 800-1000 mins during every season in their career."
      ]
    },
    {
      "cell_type": "code",
      "metadata": {
        "id": "ZnsUEpiRdoNq"
      },
      "source": [
        "players3.drop(players3[players3['steals_per_game'] < 0].index, inplace = True)\n",
        "players3.drop(players3[players3['blocks_per_game'] < 0].index, inplace = True)\n",
        "players3.drop(players3[players3['minutes_per_game'] < 10].index, inplace = True)"
      ],
      "execution_count": null,
      "outputs": []
    },
    {
      "cell_type": "code",
      "metadata": {
        "id": "XgghjbyodoNq"
      },
      "source": [
        "players_df = players3[['player_name', 'player_ref_id', 'From','To','points_per_game', 'rebounds_per_game', 'assists_per_game', 'effective_fgp', 'efficiency_rating', 'win_shares', 'value_over_replacement', 'true_shooting_pct', 'steals_per_game', 'blocks_per_game', 'minutes_per_game']]"
      ],
      "execution_count": null,
      "outputs": []
    },
    {
      "cell_type": "code",
      "metadata": {
        "id": "tFmdq1qkdoNr"
      },
      "source": [
        "def is_hof(x):\n",
        "    if '*' in x:\n",
        "        return 1\n",
        "    else:\n",
        "        return 0"
      ],
      "execution_count": null,
      "outputs": []
    },
    {
      "cell_type": "code",
      "metadata": {
        "colab": {
          "base_uri": "https://localhost:8080/"
        },
        "id": "nNWa7NVjdoNs",
        "outputId": "ee61d1a9-948f-482a-ee8c-3185b8bcdc64"
      },
      "source": [
        "players_df['hof'] = players_df['player_name'].apply(is_hof)"
      ],
      "execution_count": null,
      "outputs": [
        {
          "output_type": "stream",
          "text": [
            "/usr/local/lib/python3.6/dist-packages/ipykernel_launcher.py:1: SettingWithCopyWarning: \n",
            "A value is trying to be set on a copy of a slice from a DataFrame.\n",
            "Try using .loc[row_indexer,col_indexer] = value instead\n",
            "\n",
            "See the caveats in the documentation: https://pandas.pydata.org/pandas-docs/stable/user_guide/indexing.html#returning-a-view-versus-a-copy\n",
            "  \"\"\"Entry point for launching an IPython kernel.\n"
          ],
          "name": "stderr"
        }
      ]
    },
    {
      "cell_type": "markdown",
      "metadata": {
        "id": "V8b5g7ZIvdDa"
      },
      "source": [
        "In the following code blocks, we store the MVP winners for each year and get the number of MVPs each player has won. Interestingly, every player who has ever won the MVP award is either already in the Hall of Fame, or will almost certainly make it once they retire. The lone exception is Derrick Rose, who may not end up making it due to his career being shortened from injuries."
      ]
    },
    {
      "cell_type": "code",
      "metadata": {
        "id": "hKMVNujYdoNt"
      },
      "source": [
        "mvp_players = {'Bob Pettit*': [1956, 1959],\n",
        "              'Bob Cousy*': [1957],\n",
        "              'Bill Russell*': [1958, 1961, 1962, 1963, 1965],\n",
        "              'Wilt Chamberlain*': [1960, 1966, 1967, 1968],\n",
        "              'Oscar Robertson*': [1964],\n",
        "              'Wes Unseld*': [1969],\n",
        "              'Willis Reed*': [1970],\n",
        "              'Kareem Abdul-Jabbar*': [1971, 1972, 1974, 1976, 1977, 1980],\n",
        "              'Dave Cowens*': [1973],\n",
        "              'Bob McAdoo*': [1975],\n",
        "              'Bill Walton*': [1978],\n",
        "              'Moses Malone*': [1979, 1982, 1983],\n",
        "              'Julius Erving*': [1981],\n",
        "              'Larry Bird*': [1984, 1985, 1986],\n",
        "              'Magic Johnson*': [1987, 1989, 1990],\n",
        "              'Michael Jordan*': [1988, 1991, 1992, 1996, 1998],\n",
        "              'Charles Barkley*': [1993],\n",
        "              'Hakeem Olajuwon*': [1994],\n",
        "              'David Robinson*': [1995],\n",
        "              'Karl Malone*': [1997, 1999],\n",
        "              'Shaquille O\\'Neal*': [2000],\n",
        "              'Allen Iverson*': [2001],\n",
        "              'Tim Duncan': [2002, 2003],\n",
        "              'Kevin Garnett': [2004],\n",
        "              'Steve Nash': [2005, 2006],\n",
        "              'Dirk Nowitzki': [2007],\n",
        "              'Kobe Bryant': [2008],\n",
        "              'LeBron James': [2009, 2010, 2012, 2013],\n",
        "              'Derrick Rose': [2011],\n",
        "              'Kevin Durant': [2014],\n",
        "              'Stephen Curry': [2015, 2016],\n",
        "              'Russell Westbrook': [2017],\n",
        "              'James Harden': [2018],\n",
        "              'Giannis Antetokounmpo': [2019,2020]}"
      ],
      "execution_count": null,
      "outputs": []
    },
    {
      "cell_type": "code",
      "metadata": {
        "colab": {
          "base_uri": "https://localhost:8080/"
        },
        "id": "ucHCdCZWdoNt",
        "outputId": "a23d6dbc-aabf-45d7-c879-5dd69486fc6a"
      },
      "source": [
        "players_df['MVP'] = 0\n",
        "for i, row in players_df.iterrows():  \n",
        "    for j, v in mvp_players.items():\n",
        "        if row['player_name'] == j:\n",
        "            players_df.loc[i, 'MVP'] = len(list(v))\n",
        "            break"
      ],
      "execution_count": null,
      "outputs": [
        {
          "output_type": "stream",
          "text": [
            "/usr/local/lib/python3.6/dist-packages/ipykernel_launcher.py:1: SettingWithCopyWarning: \n",
            "A value is trying to be set on a copy of a slice from a DataFrame.\n",
            "Try using .loc[row_indexer,col_indexer] = value instead\n",
            "\n",
            "See the caveats in the documentation: https://pandas.pydata.org/pandas-docs/stable/user_guide/indexing.html#returning-a-view-versus-a-copy\n",
            "  \"\"\"Entry point for launching an IPython kernel.\n",
            "/usr/local/lib/python3.6/dist-packages/pandas/core/indexing.py:1763: SettingWithCopyWarning: \n",
            "A value is trying to be set on a copy of a slice from a DataFrame.\n",
            "Try using .loc[row_indexer,col_indexer] = value instead\n",
            "\n",
            "See the caveats in the documentation: https://pandas.pydata.org/pandas-docs/stable/user_guide/indexing.html#returning-a-view-versus-a-copy\n",
            "  isetter(loc, value)\n"
          ],
          "name": "stderr"
        }
      ]
    },
    {
      "cell_type": "markdown",
      "metadata": {
        "id": "gkbzaSTqyj4t"
      },
      "source": [
        "Here, we get the champions for each season, and keep count of how many each team has won."
      ]
    },
    {
      "cell_type": "code",
      "metadata": {
        "id": "AFjHrYlxdoNu"
      },
      "source": [
        "# Adding nba champions\n",
        "teams_champions = {'BOS': [1957, 1959, 1960, 1961, 1962, 1963, 1964, 1965, 1966, 1968, 1969, 1974, 1976, 1981, 1984, 1986, 2008],\n",
        "                  'LAL': [1972, 1980, 1982, 1985, 1987, 1988, 2000, 2001, 2002, 2009, 2010, 2020],\n",
        "                  'MNL': [1949, 1950, 1952, 1953, 1954],\n",
        "                  'CHI': [1991, 1992, 1993, 1996, 1997, 1998],\n",
        "                  'GSW': [1975, 2015, 2017, 2018],\n",
        "                  'PHW': [1947, 1956],\n",
        "                  'SAS': [1999, 2003, 2005, 2007, 2014],\n",
        "                  'DET': [1989, 1990, 2004],\n",
        "                  'MIA': [2006, 2012, 2013],\n",
        "                  'PHI': [1967, 1983],\n",
        "                  'SYR': [1955],\n",
        "                  'HOU': [1994, 1995],\n",
        "                  'NYK': [1970, 1973],\n",
        "                  'STL': [1958],\n",
        "                  'BLB': [1948],\n",
        "                  'CLE': [2016],\n",
        "                  'DAL': [2011],\n",
        "                  'MIL': [1971],\n",
        "                  'SEA': [1979],\n",
        "                  'POR': [1977],\n",
        "                  'ROC': [1951],\n",
        "                  'WSB': [1978],\n",
        "                  'TOR': [2019]}"
      ],
      "execution_count": null,
      "outputs": []
    },
    {
      "cell_type": "markdown",
      "metadata": {
        "id": "P4-LYVXaBr7o"
      },
      "source": [
        "We use that to go through the season-wise statistics of each player, decide whether they were a champion that season and aggregate that info to get how many championships each player has won."
      ]
    },
    {
      "cell_type": "code",
      "metadata": {
        "id": "qB4y-kK5doNu"
      },
      "source": [
        "stats['Champion'] = 0\n",
        "for i, row in stats.iterrows():  \n",
        "    for k, v in teams_champions.items():\n",
        "        for year in v:\n",
        "            if row['Tm'] != k:\n",
        "                break\n",
        "            elif(row['Year'] == year) & (row['Tm'] == k):\n",
        "                stats.loc[i, 'Champion'] = 1\n",
        "                break"
      ],
      "execution_count": null,
      "outputs": []
    },
    {
      "cell_type": "code",
      "metadata": {
        "id": "CrKztfTWkCd-"
      },
      "source": [
        "stats['championships'] = stats[['Champion','Player']].groupby('Player').cumsum()"
      ],
      "execution_count": null,
      "outputs": []
    },
    {
      "cell_type": "code",
      "metadata": {
        "id": "PAwUPKV6vriD"
      },
      "source": [
        "champions = stats[['Champion', 'Player', 'championships']].groupby(['Player'], sort=False)['championships'].max().reset_index()\r\n",
        "champions = champions.sort_values(by='championships', ascending=False)"
      ],
      "execution_count": null,
      "outputs": []
    },
    {
      "cell_type": "code",
      "metadata": {
        "id": "gMMDfrLhvrt4"
      },
      "source": [
        "players_df = players_df.merge(champions, how='left', left_on='player_name', right_on='Player')"
      ],
      "execution_count": null,
      "outputs": []
    },
    {
      "cell_type": "code",
      "metadata": {
        "id": "KO2ofQBZdoNw"
      },
      "source": [
        "players_df = players_df.fillna(0)"
      ],
      "execution_count": null,
      "outputs": []
    },
    {
      "cell_type": "markdown",
      "metadata": {
        "id": "80I8tbp66sC_"
      },
      "source": [
        "Let's also take a look at how many All-Star selections each player has had.\n"
      ]
    },
    {
      "cell_type": "code",
      "metadata": {
        "id": "kNsmMcc2doNw"
      },
      "source": [
        "all_stars = pd.read_csv('all_star_game_counts.csv', encoding= 'unicode_escape')"
      ],
      "execution_count": null,
      "outputs": []
    },
    {
      "cell_type": "code",
      "metadata": {
        "colab": {
          "base_uri": "https://localhost:8080/",
          "height": 204
        },
        "id": "7Twv6HVn4e9l",
        "outputId": "a53692c2-d357-4623-bdb3-7bd50771cdd0"
      },
      "source": [
        "all_stars.head()"
      ],
      "execution_count": null,
      "outputs": [
        {
          "output_type": "execute_result",
          "data": {
            "text/html": [
              "<div>\n",
              "<style scoped>\n",
              "    .dataframe tbody tr th:only-of-type {\n",
              "        vertical-align: middle;\n",
              "    }\n",
              "\n",
              "    .dataframe tbody tr th {\n",
              "        vertical-align: top;\n",
              "    }\n",
              "\n",
              "    .dataframe thead th {\n",
              "        text-align: right;\n",
              "    }\n",
              "</style>\n",
              "<table border=\"1\" class=\"dataframe\">\n",
              "  <thead>\n",
              "    <tr style=\"text-align: right;\">\n",
              "      <th></th>\n",
              "      <th>id</th>\n",
              "      <th>Name</th>\n",
              "      <th>Games</th>\n",
              "    </tr>\n",
              "  </thead>\n",
              "  <tbody>\n",
              "    <tr>\n",
              "      <th>0</th>\n",
              "      <td>abdulka01</td>\n",
              "      <td>Kareem Abdul-Jabbar</td>\n",
              "      <td>18</td>\n",
              "    </tr>\n",
              "    <tr>\n",
              "      <th>1</th>\n",
              "      <td>jamesle01</td>\n",
              "      <td>LeBron James</td>\n",
              "      <td>16</td>\n",
              "    </tr>\n",
              "    <tr>\n",
              "      <th>2</th>\n",
              "      <td>bryanko01</td>\n",
              "      <td>Kobe Bryant</td>\n",
              "      <td>15</td>\n",
              "    </tr>\n",
              "    <tr>\n",
              "      <th>3</th>\n",
              "      <td>duncati01</td>\n",
              "      <td>Tim Duncan</td>\n",
              "      <td>15</td>\n",
              "    </tr>\n",
              "    <tr>\n",
              "      <th>4</th>\n",
              "      <td>garneke01</td>\n",
              "      <td>Kevin Garnett</td>\n",
              "      <td>14</td>\n",
              "    </tr>\n",
              "  </tbody>\n",
              "</table>\n",
              "</div>"
            ],
            "text/plain": [
              "          id                 Name  Games\n",
              "0  abdulka01  Kareem Abdul-Jabbar     18\n",
              "1  jamesle01         LeBron James     16\n",
              "2  bryanko01          Kobe Bryant     15\n",
              "3  duncati01           Tim Duncan     15\n",
              "4  garneke01        Kevin Garnett     14"
            ]
          },
          "metadata": {
            "tags": []
          },
          "execution_count": 93
        }
      ]
    },
    {
      "cell_type": "markdown",
      "metadata": {
        "id": "Q3pcGhggCAzv"
      },
      "source": [
        "Merging this count of all-star selections for each player gives us the final list of statistics that we would continue our analysis on."
      ]
    },
    {
      "cell_type": "code",
      "metadata": {
        "id": "LHprSHQ37-I4"
      },
      "source": [
        "players_df = players_df.merge(all_stars, how='left', left_on='player_ref_id', right_on='id').drop(['id', 'Name'], axis=1)"
      ],
      "execution_count": null,
      "outputs": []
    },
    {
      "cell_type": "code",
      "metadata": {
        "id": "P6Q6Dr5B8Uw8"
      },
      "source": [
        "players_df = players_df.fillna(0)"
      ],
      "execution_count": null,
      "outputs": []
    },
    {
      "cell_type": "code",
      "metadata": {
        "id": "icoBE07T8s9I"
      },
      "source": [
        "players_df = players_df.rename(columns={\"Games\": 'count_all_stars'})"
      ],
      "execution_count": null,
      "outputs": []
    },
    {
      "cell_type": "code",
      "metadata": {
        "colab": {
          "base_uri": "https://localhost:8080/",
          "height": 481
        },
        "id": "QHIbNCoE8gyq",
        "outputId": "7c3930f5-81b7-4846-f1d6-4d97abcc47b1"
      },
      "source": [
        "players_df.head(10)"
      ],
      "execution_count": null,
      "outputs": [
        {
          "output_type": "execute_result",
          "data": {
            "text/html": [
              "<div>\n",
              "<style scoped>\n",
              "    .dataframe tbody tr th:only-of-type {\n",
              "        vertical-align: middle;\n",
              "    }\n",
              "\n",
              "    .dataframe tbody tr th {\n",
              "        vertical-align: top;\n",
              "    }\n",
              "\n",
              "    .dataframe thead th {\n",
              "        text-align: right;\n",
              "    }\n",
              "</style>\n",
              "<table border=\"1\" class=\"dataframe\">\n",
              "  <thead>\n",
              "    <tr style=\"text-align: right;\">\n",
              "      <th></th>\n",
              "      <th>player_name</th>\n",
              "      <th>player_ref_id</th>\n",
              "      <th>From</th>\n",
              "      <th>points_per_game</th>\n",
              "      <th>rebounds_per_game</th>\n",
              "      <th>assists_per_game</th>\n",
              "      <th>effective_fgp</th>\n",
              "      <th>efficiency_rating</th>\n",
              "      <th>win_shares</th>\n",
              "      <th>value_over_replacement</th>\n",
              "      <th>true_shooting_pct</th>\n",
              "      <th>steals_per_game</th>\n",
              "      <th>blocks_per_game</th>\n",
              "      <th>minutes_per_game</th>\n",
              "      <th>hof</th>\n",
              "      <th>MVP</th>\n",
              "      <th>championships</th>\n",
              "      <th>count_all_stars</th>\n",
              "      <th>box_plus_minus</th>\n",
              "    </tr>\n",
              "  </thead>\n",
              "  <tbody>\n",
              "    <tr>\n",
              "      <th>0</th>\n",
              "      <td>Kareem Abdul-Jabbar*</td>\n",
              "      <td>abdulka01</td>\n",
              "      <td>1970</td>\n",
              "      <td>24.607051</td>\n",
              "      <td>11.179487</td>\n",
              "      <td>3.628205</td>\n",
              "      <td>0.559</td>\n",
              "      <td>24.6</td>\n",
              "      <td>273.4</td>\n",
              "      <td>85.7</td>\n",
              "      <td>0.592</td>\n",
              "      <td>0.743590</td>\n",
              "      <td>2.044231</td>\n",
              "      <td>36.824359</td>\n",
              "      <td>1</td>\n",
              "      <td>6</td>\n",
              "      <td>6.0</td>\n",
              "      <td>18.0</td>\n",
              "      <td>5.7</td>\n",
              "    </tr>\n",
              "    <tr>\n",
              "      <th>1</th>\n",
              "      <td>Shareef Abdur-Rahim</td>\n",
              "      <td>abdursh01</td>\n",
              "      <td>1997</td>\n",
              "      <td>18.106024</td>\n",
              "      <td>7.516867</td>\n",
              "      <td>2.540964</td>\n",
              "      <td>0.479</td>\n",
              "      <td>19.0</td>\n",
              "      <td>71.2</td>\n",
              "      <td>21.9</td>\n",
              "      <td>0.549</td>\n",
              "      <td>0.987952</td>\n",
              "      <td>0.768675</td>\n",
              "      <td>34.797590</td>\n",
              "      <td>0</td>\n",
              "      <td>0</td>\n",
              "      <td>0.0</td>\n",
              "      <td>1.0</td>\n",
              "      <td>1.0</td>\n",
              "    </tr>\n",
              "    <tr>\n",
              "      <th>2</th>\n",
              "      <td>Álex Abrines</td>\n",
              "      <td>abrinal01</td>\n",
              "      <td>2017</td>\n",
              "      <td>5.310345</td>\n",
              "      <td>1.425287</td>\n",
              "      <td>0.505747</td>\n",
              "      <td>0.525</td>\n",
              "      <td>8.8</td>\n",
              "      <td>5.0</td>\n",
              "      <td>0.1</td>\n",
              "      <td>0.552</td>\n",
              "      <td>0.528736</td>\n",
              "      <td>0.126437</td>\n",
              "      <td>15.959770</td>\n",
              "      <td>0</td>\n",
              "      <td>0</td>\n",
              "      <td>0.0</td>\n",
              "      <td>0.0</td>\n",
              "      <td>-1.9</td>\n",
              "    </tr>\n",
              "    <tr>\n",
              "      <th>3</th>\n",
              "      <td>Quincy Acy</td>\n",
              "      <td>acyqu01</td>\n",
              "      <td>2013</td>\n",
              "      <td>4.872404</td>\n",
              "      <td>3.498516</td>\n",
              "      <td>0.643917</td>\n",
              "      <td>0.513</td>\n",
              "      <td>11.2</td>\n",
              "      <td>8.7</td>\n",
              "      <td>-0.1</td>\n",
              "      <td>0.553</td>\n",
              "      <td>0.415430</td>\n",
              "      <td>0.400593</td>\n",
              "      <td>16.000000</td>\n",
              "      <td>0</td>\n",
              "      <td>0</td>\n",
              "      <td>0.0</td>\n",
              "      <td>0.0</td>\n",
              "      <td>-2.0</td>\n",
              "    </tr>\n",
              "    <tr>\n",
              "      <th>4</th>\n",
              "      <td>Jaylen Adams</td>\n",
              "      <td>adamsja01</td>\n",
              "      <td>2019</td>\n",
              "      <td>3.176471</td>\n",
              "      <td>1.764706</td>\n",
              "      <td>1.911765</td>\n",
              "      <td>0.459</td>\n",
              "      <td>7.6</td>\n",
              "      <td>0.1</td>\n",
              "      <td>-0.2</td>\n",
              "      <td>0.474</td>\n",
              "      <td>0.411765</td>\n",
              "      <td>0.147059</td>\n",
              "      <td>12.588235</td>\n",
              "      <td>0</td>\n",
              "      <td>0</td>\n",
              "      <td>0.0</td>\n",
              "      <td>0.0</td>\n",
              "      <td>-4.3</td>\n",
              "    </tr>\n",
              "    <tr>\n",
              "      <th>5</th>\n",
              "      <td>Steven Adams</td>\n",
              "      <td>adamsst01</td>\n",
              "      <td>2014</td>\n",
              "      <td>9.794340</td>\n",
              "      <td>7.601887</td>\n",
              "      <td>1.160377</td>\n",
              "      <td>0.589</td>\n",
              "      <td>17.2</td>\n",
              "      <td>45.2</td>\n",
              "      <td>8.6</td>\n",
              "      <td>0.596</td>\n",
              "      <td>0.884906</td>\n",
              "      <td>1.001887</td>\n",
              "      <td>26.805660</td>\n",
              "      <td>0</td>\n",
              "      <td>0</td>\n",
              "      <td>0.0</td>\n",
              "      <td>0.0</td>\n",
              "      <td>0.4</td>\n",
              "    </tr>\n",
              "    <tr>\n",
              "      <th>6</th>\n",
              "      <td>Bam Adebayo</td>\n",
              "      <td>adebaba01</td>\n",
              "      <td>2018</td>\n",
              "      <td>10.547085</td>\n",
              "      <td>7.681614</td>\n",
              "      <td>2.928251</td>\n",
              "      <td>0.555</td>\n",
              "      <td>18.4</td>\n",
              "      <td>19.5</td>\n",
              "      <td>5.7</td>\n",
              "      <td>0.599</td>\n",
              "      <td>0.829596</td>\n",
              "      <td>0.892377</td>\n",
              "      <td>25.551570</td>\n",
              "      <td>0</td>\n",
              "      <td>0</td>\n",
              "      <td>0.0</td>\n",
              "      <td>1.0</td>\n",
              "      <td>2.0</td>\n",
              "    </tr>\n",
              "    <tr>\n",
              "      <th>7</th>\n",
              "      <td>Deng Adel</td>\n",
              "      <td>adelde01</td>\n",
              "      <td>2019</td>\n",
              "      <td>1.684211</td>\n",
              "      <td>1.000000</td>\n",
              "      <td>0.263158</td>\n",
              "      <td>0.389</td>\n",
              "      <td>2.7</td>\n",
              "      <td>-0.2</td>\n",
              "      <td>-0.3</td>\n",
              "      <td>0.424</td>\n",
              "      <td>0.052632</td>\n",
              "      <td>0.210526</td>\n",
              "      <td>10.210526</td>\n",
              "      <td>0</td>\n",
              "      <td>0</td>\n",
              "      <td>0.0</td>\n",
              "      <td>0.0</td>\n",
              "      <td>-7.5</td>\n",
              "    </tr>\n",
              "    <tr>\n",
              "      <th>8</th>\n",
              "      <td>Jeff Adrien</td>\n",
              "      <td>adrieje01</td>\n",
              "      <td>2011</td>\n",
              "      <td>4.633987</td>\n",
              "      <td>4.307190</td>\n",
              "      <td>0.653595</td>\n",
              "      <td>0.474</td>\n",
              "      <td>15.0</td>\n",
              "      <td>4.4</td>\n",
              "      <td>-0.1</td>\n",
              "      <td>0.518</td>\n",
              "      <td>0.326797</td>\n",
              "      <td>0.516340</td>\n",
              "      <td>14.039216</td>\n",
              "      <td>0</td>\n",
              "      <td>0</td>\n",
              "      <td>0.0</td>\n",
              "      <td>0.0</td>\n",
              "      <td>-2.2</td>\n",
              "    </tr>\n",
              "    <tr>\n",
              "      <th>9</th>\n",
              "      <td>Arron Afflalo</td>\n",
              "      <td>afflaar01</td>\n",
              "      <td>2008</td>\n",
              "      <td>10.758530</td>\n",
              "      <td>2.855643</td>\n",
              "      <td>1.818898</td>\n",
              "      <td>0.514</td>\n",
              "      <td>11.9</td>\n",
              "      <td>33.5</td>\n",
              "      <td>2.4</td>\n",
              "      <td>0.556</td>\n",
              "      <td>0.447507</td>\n",
              "      <td>0.185039</td>\n",
              "      <td>27.334646</td>\n",
              "      <td>0</td>\n",
              "      <td>0</td>\n",
              "      <td>0.0</td>\n",
              "      <td>0.0</td>\n",
              "      <td>-1.5</td>\n",
              "    </tr>\n",
              "  </tbody>\n",
              "</table>\n",
              "</div>"
            ],
            "text/plain": [
              "            player_name player_ref_id  From  points_per_game  \\\n",
              "0  Kareem Abdul-Jabbar*     abdulka01  1970        24.607051   \n",
              "1   Shareef Abdur-Rahim     abdursh01  1997        18.106024   \n",
              "2          Álex Abrines     abrinal01  2017         5.310345   \n",
              "3            Quincy Acy       acyqu01  2013         4.872404   \n",
              "4          Jaylen Adams     adamsja01  2019         3.176471   \n",
              "5          Steven Adams     adamsst01  2014         9.794340   \n",
              "6           Bam Adebayo     adebaba01  2018        10.547085   \n",
              "7             Deng Adel      adelde01  2019         1.684211   \n",
              "8           Jeff Adrien     adrieje01  2011         4.633987   \n",
              "9         Arron Afflalo     afflaar01  2008        10.758530   \n",
              "\n",
              "   rebounds_per_game  assists_per_game  effective_fgp  efficiency_rating  \\\n",
              "0          11.179487          3.628205          0.559               24.6   \n",
              "1           7.516867          2.540964          0.479               19.0   \n",
              "2           1.425287          0.505747          0.525                8.8   \n",
              "3           3.498516          0.643917          0.513               11.2   \n",
              "4           1.764706          1.911765          0.459                7.6   \n",
              "5           7.601887          1.160377          0.589               17.2   \n",
              "6           7.681614          2.928251          0.555               18.4   \n",
              "7           1.000000          0.263158          0.389                2.7   \n",
              "8           4.307190          0.653595          0.474               15.0   \n",
              "9           2.855643          1.818898          0.514               11.9   \n",
              "\n",
              "   win_shares  value_over_replacement  true_shooting_pct  steals_per_game  \\\n",
              "0       273.4                    85.7              0.592         0.743590   \n",
              "1        71.2                    21.9              0.549         0.987952   \n",
              "2         5.0                     0.1              0.552         0.528736   \n",
              "3         8.7                    -0.1              0.553         0.415430   \n",
              "4         0.1                    -0.2              0.474         0.411765   \n",
              "5        45.2                     8.6              0.596         0.884906   \n",
              "6        19.5                     5.7              0.599         0.829596   \n",
              "7        -0.2                    -0.3              0.424         0.052632   \n",
              "8         4.4                    -0.1              0.518         0.326797   \n",
              "9        33.5                     2.4              0.556         0.447507   \n",
              "\n",
              "   blocks_per_game  minutes_per_game  hof  MVP  championships  \\\n",
              "0         2.044231         36.824359    1    6            6.0   \n",
              "1         0.768675         34.797590    0    0            0.0   \n",
              "2         0.126437         15.959770    0    0            0.0   \n",
              "3         0.400593         16.000000    0    0            0.0   \n",
              "4         0.147059         12.588235    0    0            0.0   \n",
              "5         1.001887         26.805660    0    0            0.0   \n",
              "6         0.892377         25.551570    0    0            0.0   \n",
              "7         0.210526         10.210526    0    0            0.0   \n",
              "8         0.516340         14.039216    0    0            0.0   \n",
              "9         0.185039         27.334646    0    0            0.0   \n",
              "\n",
              "   count_all_stars  box_plus_minus  \n",
              "0             18.0             5.7  \n",
              "1              1.0             1.0  \n",
              "2              0.0            -1.9  \n",
              "3              0.0            -2.0  \n",
              "4              0.0            -4.3  \n",
              "5              0.0             0.4  \n",
              "6              1.0             2.0  \n",
              "7              0.0            -7.5  \n",
              "8              0.0            -2.2  \n",
              "9              0.0            -1.5  "
            ]
          },
          "metadata": {
            "tags": []
          },
          "execution_count": 105
        }
      ]
    },
    {
      "cell_type": "code",
      "metadata": {
        "id": "3jqDssa_jXtc"
      },
      "source": [
        "players_df.to_csv('player_df_final.csv', index=False)"
      ],
      "execution_count": null,
      "outputs": []
    },
    {
      "cell_type": "markdown",
      "metadata": {
        "id": "_VdFBiANdoNx"
      },
      "source": [
        "## Exploratory Data Analysis"
      ]
    },
    {
      "cell_type": "code",
      "metadata": {
        "id": "qEVtAkDMdoNy"
      },
      "source": [
        "sns.set_style('darkgrid')"
      ],
      "execution_count": null,
      "outputs": []
    },
    {
      "cell_type": "markdown",
      "metadata": {
        "id": "pN_78RvFas_3"
      },
      "source": [
        "We split the dataframe being used for analysis into Hall of Famers and Non-Hall of Famers. This not only helps Data Visualization, but is also used later for an even train test split for training our models."
      ]
    },
    {
      "cell_type": "code",
      "metadata": {
        "id": "i08RccGTKsX6"
      },
      "source": [
        "hof = players_df[players_df['hof']==1]\r\n",
        "not_hof = players_df[players_df['hof']==0]"
      ],
      "execution_count": null,
      "outputs": []
    },
    {
      "cell_type": "markdown",
      "metadata": {
        "id": "H3tLUJGg9LGd"
      },
      "source": [
        "Let's start off with the most basic distinction that we can make between players: the number of points they score. Below, we plot a distribution of points scored per game for Hall of Famers and non-Hall of Famers. "
      ]
    },
    {
      "cell_type": "code",
      "metadata": {
        "colab": {
          "base_uri": "https://localhost:8080/",
          "height": 653
        },
        "id": "8C_887aJdoNy",
        "outputId": "eb961770-9154-41dd-ab89-75fbd69fcbb1"
      },
      "source": [
        "plt.figure(figsize=(14,10))\n",
        "sns.distplot(hof['points_per_game'], bins=25, label=\"Hall of Famer\")\n",
        "sns.distplot(not_hof['points_per_game'], bins=25, label=\"Not a Hall of Famer\")\n",
        "plt.xlabel(\"Points Per Game\")\n",
        "plt.ylabel(\"Distribution\")\n",
        "plt.yticks(fontsize=15)\n",
        "plt.xticks(fontsize=15)\n",
        "plt.legend(loc=1, frameon=False, prop={'size': 12})\n",
        "plt.title('Points Per Game Distribution for all players', fontsize=24)"
      ],
      "execution_count": null,
      "outputs": [
        {
          "output_type": "execute_result",
          "data": {
            "text/plain": [
              "Text(0.5, 1.0, 'Points Per Game Distribution for all players')"
            ]
          },
          "metadata": {
            "tags": []
          },
          "execution_count": 250
        },
        {
          "output_type": "display_data",
          "data": {
            "image/png": "[encoded data removed]",
            "text/plain": [
              "<Figure size 1008x720 with 1 Axes>"
            ]
          },
          "metadata": {
            "tags": []
          }
        }
      ]
    },
    {
      "cell_type": "markdown",
      "metadata": {
        "id": "Y2F7nYs690pr"
      },
      "source": [
        "As expected, Hall of Famers score significantly higher points per game on average as compared to Non-Hall of Famers. For our dataset, we see that Non-Hall of Famers score about 5 points-per-game on average while Hall of Famers score about 18 points per game on average. This shows us that points-per-game is a very predictive feature for whether or not a player is in the Hall of Fame."
      ]
    },
    {
      "cell_type": "code",
      "metadata": {
        "colab": {
          "base_uri": "https://localhost:8080/",
          "height": 533
        },
        "id": "ItkkAgNkjxkb",
        "outputId": "b5367da5-c145-4370-8ae4-51a3649361f1"
      },
      "source": [
        "sort_by_hof = players_df.groupby('hof')['points_per_game', 'rebounds_per_game', 'assists_per_game'] # statistics grouped by hof status\r\n",
        "sort_by_hof = sort_by_hof.mean().transpose()  # average stats, transposed for graphing purposes\r\n",
        "sort_by_hof = sort_by_hof.rename({1: 'Hall of Famer', \r\n",
        "                                  0: 'Not Hall of Famer'}, \r\n",
        "                                  axis='columns')\r\n",
        "sort_by_hof = sort_by_hof.rename({'points_per_game': 'Points Per Game',\r\n",
        "                                  'rebounds_per_game': 'Rebounds Per Game',\r\n",
        "                                  'assists_per_game': 'Assists Per Game'},\r\n",
        "                                   axis='index')\r\n",
        "sort_by_hof = sort_by_hof[sort_by_hof.columns[::-1]] # reverse column order\r\n",
        "sort_by_hof.plot(kind='bar', figsize=(16,8), alpha=0.5, rot=0)\r\n",
        "\r\n",
        "plt.legend(prop={'size':15}, frameon=True, loc=1)\r\n",
        "plt.xticks(size = 15)\r\n",
        "plt.yticks(size = 15)\r\n",
        "plt.title('Normal Statistics separated by Hall of Fame Status', fontsize=28)"
      ],
      "execution_count": null,
      "outputs": [
        {
          "output_type": "execute_result",
          "data": {
            "text/plain": [
              "Text(0.5, 1.0, 'Normal Statistics separated by Hall of Fame Status')"
            ]
          },
          "metadata": {
            "tags": []
          },
          "execution_count": 251
        },
        {
          "output_type": "display_data",
          "data": {
            "image/png": "[encoded data removed]",
            "text/plain": [
              "<Figure size 1152x576 with 1 Axes>"
            ]
          },
          "metadata": {
            "tags": []
          }
        }
      ]
    },
    {
      "cell_type": "markdown",
      "metadata": {
        "id": "TXq3eQKqC4L3"
      },
      "source": [
        "Here, we’ve separated points per game, rebounds per game, and assists per game for Hall-of-Famers and non-Hall-of-Famers. As we can see, the numbers are significantly higher for those in the Hall-of-Fame. \n"
      ]
    },
    {
      "cell_type": "code",
      "metadata": {
        "colab": {
          "base_uri": "https://localhost:8080/",
          "height": 533
        },
        "id": "XGgmw0cshSk1",
        "outputId": "8d89ed2f-22a8-46b3-8cf9-5ae531be63cb"
      },
      "source": [
        "sort_by_hof = players_df.groupby('hof')['value_over_replacement', 'efficiency_rating', 'win_shares'] # statistics grouped by hof status\r\n",
        "sort_by_hof = sort_by_hof.mean().transpose()  # average stats, transposed for graphing purposes\r\n",
        "sort_by_hof = sort_by_hof.rename({1: 'Hall of Famer', \r\n",
        "                                  0: 'Not Hall of Famer'}, \r\n",
        "                                  axis='columns')\r\n",
        "sort_by_hof = sort_by_hof.rename({'value_over_replacement': 'Value Over Replacement Player',\r\n",
        "                                  'efficiency_rating': 'Player Efficiency Rating',\r\n",
        "                                  'win_shares': 'Win Shares'},\r\n",
        "                                   axis='index')\r\n",
        "sort_by_hof = sort_by_hof[sort_by_hof.columns[::-1]] # reverse column order\r\n",
        "sort_by_hof.plot(kind='bar', figsize=(16,8), alpha=0.5, rot=0)\r\n",
        "\r\n",
        "plt.legend(prop={'size':15}, frameon=True, loc=1)\r\n",
        "plt.xticks(size = 15)\r\n",
        "plt.yticks(size = 15)\r\n",
        "plt.title('Advanced Statistics separated by Hall of Fame Status', fontsize=28)"
      ],
      "execution_count": null,
      "outputs": [
        {
          "output_type": "execute_result",
          "data": {
            "text/plain": [
              "Text(0.5, 1.0, 'Advanced Statistics separated by Hall of Fame Status')"
            ]
          },
          "metadata": {
            "tags": []
          },
          "execution_count": 252
        },
        {
          "output_type": "display_data",
          "data": {
            "image/png": "[encoded data removed]",
            "text/plain": [
              "<Figure size 1152x576 with 1 Axes>"
            ]
          },
          "metadata": {
            "tags": []
          }
        }
      ]
    },
    {
      "cell_type": "markdown",
      "metadata": {
        "id": "epA75-G5DAsk"
      },
      "source": [
        "For the advanced statistics, we decided to choose VORP, PER, and win shares. VORP (value over replacement player) estimates how much value a player adds to their team, calculated as points added per 100 team possessions, where -2.0 is average. PER is an all-in-one rating, where all aspects of a player’s performance are taken into account to return one number, where 15 is average, 20+ is very good, and anything above 30 is all-time great. Win shares attempts to award each player a portion of the team’s success, based on how much they were responsible for their wins. As expected, the average for Hall-of-Famers is distinctly higher in each category. However, the margin between them for cumulative statistics (VORP, win shares) was much higher than for the rate statistic (PER). This suggests that longevity is valued highly for Hall-of-Fame consideration.\n",
        "\n"
      ]
    },
    {
      "cell_type": "code",
      "metadata": {
        "colab": {
          "base_uri": "https://localhost:8080/",
          "height": 653
        },
        "id": "fzllzERfKY3K",
        "outputId": "f3ec3d5d-3528-46f8-d322-019081c7f3cd"
      },
      "source": [
        "plt.figure(figsize=(14,10))\r\n",
        "sns.distplot(hof['count_all_stars'], bins=25, label=\"Hall of Famer\")\r\n",
        "sns.distplot(not_hof['count_all_stars'], bins=25, label=\"Not a Hall of Famer\")\r\n",
        "plt.xlabel(\"Number of All Star Games\")\r\n",
        "plt.ylabel(\"Distribution\")\r\n",
        "plt.yticks(fontsize=15)\r\n",
        "plt.xticks(fontsize=15)\r\n",
        "plt.legend(loc=1, frameon=False, prop={'size': 12})\r\n",
        "plt.title('Number of all star games - distribution for all players', fontsize=24)"
      ],
      "execution_count": null,
      "outputs": [
        {
          "output_type": "execute_result",
          "data": {
            "text/plain": [
              "Text(0.5, 1.0, 'Number of all star games - distribution for all players')"
            ]
          },
          "metadata": {
            "tags": []
          },
          "execution_count": 253
        },
        {
          "output_type": "display_data",
          "data": {
            "image/png": "[encoded data removed]",
            "text/plain": [
              "<Figure size 1008x720 with 1 Axes>"
            ]
          },
          "metadata": {
            "tags": []
          }
        }
      ]
    },
    {
      "cell_type": "markdown",
      "metadata": {
        "id": "CX8Lmuh7ZKfb"
      },
      "source": [
        "Very interesting. Looking at All-Star selections for Hall-of-Famers vs non-Hall-of-Famers shows a stark contrast. The overwhelming majority of non-Hall-of-Famers have never been selected to an All-Star game, with a few having been selected to one or two. For Hall-of-Famers, the bulk of them have been selected to around 5-10, with outliers on either side. \n"
      ]
    },
    {
      "cell_type": "markdown",
      "metadata": {
        "id": "38Zs3b-KdoN0"
      },
      "source": [
        "Let us try to visualize the correlations between the different features that we \r\n",
        "have (as stats) in order to move ahead with our analysis. We will plot a heatmap of all the features and annotate it with the pairwise correlations between features to identify the most important features. "
      ]
    },
    {
      "cell_type": "code",
      "metadata": {
        "colab": {
          "base_uri": "https://localhost:8080/",
          "height": 708
        },
        "id": "-DHMi4PvdoN0",
        "outputId": "02d41d63-d2e0-42fb-fa4d-ba9f6bafed97"
      },
      "source": [
        "# visualise correlation matrix\n",
        "corMatrix = players_df.iloc[:,2:].corr()\n",
        "fig, ax = plt.subplots(figsize = (19,10))\n",
        "sns.heatmap(corMatrix, annot=True, ax = ax, vmin = -1, vmax = 1, mask = np.zeros_like(corMatrix, dtype = np.bool),\n",
        "            cmap = sns.diverging_palette(220, 20, as_cmap = True), square = True)\n",
        "plt.show()"
      ],
      "execution_count": null,
      "outputs": [
        {
          "output_type": "display_data",
          "data": {
            "image/png": "[encoded data removed]",
            "text/plain": [
              "<Figure size 1368x720 with 2 Axes>"
            ]
          },
          "metadata": {
            "tags": [],
            "needs_background": "light"
          }
        }
      ]
    },
    {
      "cell_type": "markdown",
      "metadata": {
        "id": "ejy4-_MF-1YA"
      },
      "source": [
        "From the heatmap, it is clear that win shares, player efficiency rating, points per game, number of all star games played, and number of MVP awards and almost all the other stats are strongly, positively correlated to being in the Hall of Fame. With these features in mind, let's move ahead to see how we can use them to predict future Hall-of-Famers."
      ]
    },
    {
      "cell_type": "markdown",
      "metadata": {
        "id": "Hv9arYIYukSW"
      },
      "source": [
        "## Model Building"
      ]
    },
    {
      "cell_type": "markdown",
      "metadata": {
        "id": "3KWpxX_R4p1U"
      },
      "source": [
        "Let's first write a function that can show us the most important metrics after testing each of our models. We use scikit-learn's brier_score_loss as that type of loss helps us predict probabilities of players to make the Hall of Fame without too many high errors as it specifically eliminates them."
      ]
    },
    {
      "cell_type": "code",
      "metadata": {
        "id": "kmUkuKEpdoN1"
      },
      "source": [
        "def show_metrics(model, features):\r\n",
        "    accuracy_train = accuracy_score(model.predict(X_train[features]), y_train)\r\n",
        "    accuracy_valid = accuracy_score(model.predict(X_val[features]), y_val)\r\n",
        "    \r\n",
        "    loss_train = brier_score_loss(y_train, model.predict_proba(X_train[features])[:, 1])\r\n",
        "    loss_valid = brier_score_loss(y_val, model.predict_proba(X_val[features])[:, 1])\r\n",
        "    \r\n",
        "    print('Training Accuracy: \\n'+str(accuracy_train), '\\n Validation Accuracy: \\n'+str(accuracy_valid), '\\n Training Loss: \\n'+str(loss_train), '\\n Validation Loss: \\n'+str(loss_valid))"
      ],
      "execution_count": null,
      "outputs": []
    },
    {
      "cell_type": "markdown",
      "metadata": {
        "id": "8VuEuYhC3Dcl"
      },
      "source": [
        "### Hypothesis Test\r\n",
        "\r\n",
        "At the start of the project, during data curation and cleaning, we had picked certain features that we thought would be extremely predictive of whether or not a player makes the Hall of Fame. Let us test whether we made the right choice in picking those features and how important/predictive each of those features are. To do this, let's start with the null hypothesis that all of the features are equally important in determining whether or not a player will make the Hall of Fame. \r\n",
        "\r\n",
        "In order to test this hypothesis, we are going to try out a Logistic Regression model on our data and use the [scikit-learn's](https://scikit-learn.org/stable/user_guide.html) recursive feature elimination, which recursively removes out features at every step of the training process using the coefficients of the features gained from the previous step. "
      ]
    },
    {
      "cell_type": "code",
      "metadata": {
        "id": "c0rcktJ1qz4V"
      },
      "source": [
        "train_hof, valid_hof = sklearn.model_selection.train_test_split(hof[hof['To']<=2016], test_size=0.4)\r\n",
        "train_not_hof, valid_not_hof = sklearn.model_selection.train_test_split(not_hof[not_hof['To']<=2016], test_size=0.4)\r\n",
        "train = pd.concat([train_hof, train_not_hof], ignore_index=True).sample(frac=1)\r\n",
        "valid = pd.concat([valid_hof, valid_not_hof], ignore_index=True).sample(frac=1)\r\n",
        "test = players_df[(players_df.To > 2016)]"
      ],
      "execution_count": null,
      "outputs": []
    },
    {
      "cell_type": "code",
      "metadata": {
        "colab": {
          "base_uri": "https://localhost:8080/"
        },
        "id": "hFC2uogE7ycn",
        "outputId": "c841ad8d-a323-45e3-8b86-607bd9bbf06c"
      },
      "source": [
        "len(train), len(valid), len(test)"
      ],
      "execution_count": null,
      "outputs": [
        {
          "output_type": "execute_result",
          "data": {
            "text/plain": [
              "(401, 269, 675)"
            ]
          },
          "metadata": {
            "tags": []
          },
          "execution_count": 210
        }
      ]
    },
    {
      "cell_type": "markdown",
      "metadata": {
        "id": "kH2Wif8_IoHN"
      },
      "source": [
        "We can see that our validation set is extremely small, which might cause inaccuracies in terms of validating our training predictions, but since the number of players that are currently in the Hall of Fame is only 150-170 players, it makes sense that our data to train and predict on is going to be relatively small in comparison to traditional datasets."
      ]
    },
    {
      "cell_type": "code",
      "metadata": {
        "id": "WBvMG2iHqz1T"
      },
      "source": [
        "features = ['points_per_game', 'rebounds_per_game', 'assists_per_game', \r\n",
        "            'effective_fgp', 'efficiency_rating', 'win_shares', \r\n",
        "            'value_over_replacement', 'true_shooting_pct', 'steals_per_game', \r\n",
        "            'blocks_per_game', 'minutes_per_game', 'box_plus_minus', 'MVP', \r\n",
        "            'championships', 'count_all_stars']\r\n",
        "\r\n",
        "X_train = train[features]\r\n",
        "y_train = train[\"hof\"]\r\n",
        "\r\n",
        "X_val = valid[features]\r\n",
        "y_val = valid[\"hof\"]"
      ],
      "execution_count": null,
      "outputs": []
    },
    {
      "cell_type": "code",
      "metadata": {
        "id": "_mTeyGAeq0U-",
        "colab": {
          "base_uri": "https://localhost:8080/"
        },
        "outputId": "4749eae4-adc1-4ac8-8480-219131638ea0"
      },
      "source": [
        "# start with max loss to iteratively reduce it\r\n",
        "min_loss = 1\r\n",
        "selector_best = None\r\n",
        "\r\n",
        "# Loop to go through all 15 possible features and select best combination \r\n",
        "# and best number of features for Logistic Regression Model\r\n",
        "for i in range(1, 15):\r\n",
        "    selector = RFE(estimator = LogisticRegression(max_iter=150), n_features_to_select=i)\r\n",
        "\r\n",
        "    rfe_pipe = make_pipeline(StandardScaler(), selector)\r\n",
        "    \r\n",
        "    rfe_pipe.fit(X_train[features], y_train)\r\n",
        "    loss = brier_score_loss(y_val, rfe_pipe.predict_proba(X_val)[:, 1])\r\n",
        "    \r\n",
        "    if loss < min_loss:\r\n",
        "        min_loss = loss\r\n",
        "        selector_best = clone(selector)\r\n",
        "\r\n",
        "rfe_pipe = make_pipeline(StandardScaler(), selector_best)\r\n",
        "\r\n",
        "rfe_pipe.fit(X_train, y_train)\r\n",
        "rfe_support = selector_best.get_support()\r\n",
        "rfe_features = X_train.loc[:, rfe_support].columns\r\n",
        "\r\n",
        "print(str(len(rfe_features)), 'best features according to RFE:')\r\n",
        "print(rfe_features.tolist())\r\n",
        "show_metrics(rfe_pipe, features)"
      ],
      "execution_count": null,
      "outputs": [
        {
          "output_type": "stream",
          "text": [
            "14 best features according to RFE:\n",
            "['points_per_game', 'rebounds_per_game', 'assists_per_game', 'effective_fgp', 'efficiency_rating', 'win_shares', 'value_over_replacement', 'true_shooting_pct', 'steals_per_game', 'minutes_per_game', 'box_plus_minus', 'MVP', 'championships', 'count_all_stars']\n",
            "Training Accuracy: \n",
            "0.9775561097256857 \n",
            " Validation Accuracy: \n",
            "0.9442379182156134 \n",
            " Training Loss: \n",
            "0.018325233343505023 \n",
            " Validation Loss: \n",
            "0.04220760680413179\n"
          ],
          "name": "stdout"
        }
      ]
    },
    {
      "cell_type": "markdown",
      "metadata": {
        "id": "h_QdzW7XAwil"
      },
      "source": [
        "Nice! Recursive Feature Elimination just selected 6 of the most important features using a Logistic Regression model, that it thought were the biggest predictors for a player being in the Hall of Fame. And it validated that pretty well on our validation set (although of small size). Now that we have this logistic regression model trained, let's try and see what the exact coefficients of these features were to understand whether our model works as intended."
      ]
    },
    {
      "cell_type": "code",
      "metadata": {
        "id": "03carO0Wq0Y3",
        "colab": {
          "base_uri": "https://localhost:8080/",
          "height": 483
        },
        "outputId": "1b43a93f-3bf5-4223-ec02-6029ff50b351"
      },
      "source": [
        "logit = LogisticRegression()\r\n",
        "logreg_pipe = make_pipeline(StandardScaler(), logit)\r\n",
        "logreg_pipe.fit(X_train[rfe_features], y_train)\r\n",
        "\r\n",
        "pd.DataFrame({\"Coefs\": logit.coef_.reshape((-1))}, index=rfe_features)"
      ],
      "execution_count": null,
      "outputs": [
        {
          "output_type": "execute_result",
          "data": {
            "text/html": [
              "<div>\n",
              "<style scoped>\n",
              "    .dataframe tbody tr th:only-of-type {\n",
              "        vertical-align: middle;\n",
              "    }\n",
              "\n",
              "    .dataframe tbody tr th {\n",
              "        vertical-align: top;\n",
              "    }\n",
              "\n",
              "    .dataframe thead th {\n",
              "        text-align: right;\n",
              "    }\n",
              "</style>\n",
              "<table border=\"1\" class=\"dataframe\">\n",
              "  <thead>\n",
              "    <tr style=\"text-align: right;\">\n",
              "      <th></th>\n",
              "      <th>Coefs</th>\n",
              "    </tr>\n",
              "  </thead>\n",
              "  <tbody>\n",
              "    <tr>\n",
              "      <th>points_per_game</th>\n",
              "      <td>1.359051</td>\n",
              "    </tr>\n",
              "    <tr>\n",
              "      <th>rebounds_per_game</th>\n",
              "      <td>0.619154</td>\n",
              "    </tr>\n",
              "    <tr>\n",
              "      <th>assists_per_game</th>\n",
              "      <td>0.886474</td>\n",
              "    </tr>\n",
              "    <tr>\n",
              "      <th>effective_fgp</th>\n",
              "      <td>-0.671963</td>\n",
              "    </tr>\n",
              "    <tr>\n",
              "      <th>efficiency_rating</th>\n",
              "      <td>0.258912</td>\n",
              "    </tr>\n",
              "    <tr>\n",
              "      <th>win_shares</th>\n",
              "      <td>0.563947</td>\n",
              "    </tr>\n",
              "    <tr>\n",
              "      <th>value_over_replacement</th>\n",
              "      <td>-0.926240</td>\n",
              "    </tr>\n",
              "    <tr>\n",
              "      <th>true_shooting_pct</th>\n",
              "      <td>0.805020</td>\n",
              "    </tr>\n",
              "    <tr>\n",
              "      <th>steals_per_game</th>\n",
              "      <td>-0.306677</td>\n",
              "    </tr>\n",
              "    <tr>\n",
              "      <th>minutes_per_game</th>\n",
              "      <td>-0.430463</td>\n",
              "    </tr>\n",
              "    <tr>\n",
              "      <th>box_plus_minus</th>\n",
              "      <td>0.209310</td>\n",
              "    </tr>\n",
              "    <tr>\n",
              "      <th>MVP</th>\n",
              "      <td>0.053101</td>\n",
              "    </tr>\n",
              "    <tr>\n",
              "      <th>championships</th>\n",
              "      <td>0.311789</td>\n",
              "    </tr>\n",
              "    <tr>\n",
              "      <th>count_all_stars</th>\n",
              "      <td>1.665613</td>\n",
              "    </tr>\n",
              "  </tbody>\n",
              "</table>\n",
              "</div>"
            ],
            "text/plain": [
              "                           Coefs\n",
              "points_per_game         1.359051\n",
              "rebounds_per_game       0.619154\n",
              "assists_per_game        0.886474\n",
              "effective_fgp          -0.671963\n",
              "efficiency_rating       0.258912\n",
              "win_shares              0.563947\n",
              "value_over_replacement -0.926240\n",
              "true_shooting_pct       0.805020\n",
              "steals_per_game        -0.306677\n",
              "minutes_per_game       -0.430463\n",
              "box_plus_minus          0.209310\n",
              "MVP                     0.053101\n",
              "championships           0.311789\n",
              "count_all_stars         1.665613"
            ]
          },
          "metadata": {
            "tags": []
          },
          "execution_count": 215
        }
      ]
    },
    {
      "cell_type": "markdown",
      "metadata": {
        "id": "czIqKe7qB0VX"
      },
      "source": [
        "Interesting. We see that a number of features are negative. This is interesting because all of these stats are advanced stats which measure how a player contributes to the game. For example:\r\n",
        "- Value Over Replacement Player measures the total number of points per 100 team possessions the player contributed compared to a replacement-level player (who has an average score of -2.0). This value is prorated for an 82-game season.\r\n",
        "- Effective Field Goal % measures the player’s field goal percentage while giving extra weight to 3-point field goals. Percentage ranges from 0-1.\r\n",
        "\r\n",
        "Any basketball fan would assume and often base their argument about why a player should be in the Hall of Fame using these stats, so it is surprising that they have negative coefficients. "
      ]
    },
    {
      "cell_type": "markdown",
      "metadata": {
        "id": "cfWFSwcqEuO4"
      },
      "source": [
        "Let's try the same set of steps using a different feature selection tool called Select From Model and use a Random Forest Classifier to see if we get different results."
      ]
    },
    {
      "cell_type": "code",
      "metadata": {
        "id": "I7ot8RbqdoN1",
        "colab": {
          "base_uri": "https://localhost:8080/",
          "height": 451
        },
        "outputId": "12924890-ea4c-4c68-a2d5-ea9662b1e7fe"
      },
      "source": [
        "min_loss = 1\r\n",
        "selector_best = None\r\n",
        "\r\n",
        "#Loop over all possible number of features to get the right amount\r\n",
        "for i in range(1, 15):\r\n",
        "    rf = RandomForestClassifier(max_depth=7, max_features=0.5,\r\n",
        "                                random_state=7, oob_score=False)\r\n",
        "    \r\n",
        "    rf_selector = SelectFromModel(rf, max_features=i)\r\n",
        "    rf_selector.fit(X_train, y_train)\r\n",
        "    \r\n",
        "    rf_support = rf_selector.get_support()\r\n",
        "    rf_features = X_train.loc[:, rf_support].columns\r\n",
        "\r\n",
        "    rf.fit(X_train[rf_features], y_train)\r\n",
        "    \r\n",
        "    loss = brier_score_loss(y_val, rf.predict_proba(X_val[rf_features])[:, 1])\r\n",
        "    \r\n",
        "    if loss < min_loss:\r\n",
        "        min_loss = loss\r\n",
        "        best_features = rf_features\r\n",
        "\r\n",
        "\r\n",
        "rf_features = best_features\r\n",
        "rf.fit(X_train[rf_features], y_train)\r\n",
        "\r\n",
        "print(str(len(rf_features)), 'best features according to SelectFromModel:')\r\n",
        "print(rf_features.tolist())\r\n",
        "show_metrics(rf, rf_features)\r\n",
        "\r\n",
        "index = np.argsort(rf.feature_importances_)\r\n",
        "features = X_train.columns[index]\r\n",
        "plt.barh(width=rf.feature_importances_[index], y=best_features);\r\n",
        "plt.title(\"Feature Importances\");"
      ],
      "execution_count": null,
      "outputs": [
        {
          "output_type": "stream",
          "text": [
            "3 best features according to SelectFromModel:\n",
            "['points_per_game', 'efficiency_rating', 'count_all_stars']\n",
            "Training Accuracy: \n",
            "0.9950124688279302 \n",
            " Validation Accuracy: \n",
            "0.9144981412639405 \n",
            " Training Loss: \n",
            "0.0060180279802119815 \n",
            " Validation Loss: \n",
            "0.056349568791407297\n"
          ],
          "name": "stdout"
        },
        {
          "output_type": "display_data",
          "data": {
            "image/png": "[encoded data removed]",
            "text/plain": [
              "<Figure size 432x288 with 1 Axes>"
            ]
          },
          "metadata": {
            "tags": []
          }
        }
      ]
    },
    {
      "cell_type": "markdown",
      "metadata": {
        "id": "8_6NlXPrJoST"
      },
      "source": [
        "Great! We can see that our validation accuracy fell slightly, but our training accuracy went up **nearly 5%**, which is a significant improvement from the Logistic Regression model that we tried previously. Although this model seems to perform slightly better than our logistic regression model, we thought that the logistic regression model chose better features (as visible above, Random Forest Classifier chose minutes_per_game as an important feature. This might be true, but it is almost a given that a player who has won an MVP award is extremely likely to make the Hall of Fame. "
      ]
    },
    {
      "cell_type": "markdown",
      "metadata": {
        "id": "mVeueSWwK5J8"
      },
      "source": [
        "This leads us to our second and final hypothesis. We suppose that the Logistic Regression model will perform better than the Random Forest Classifier at prediciting potential Hall of Famers. Let us test this hypothesis by running both models on our test data."
      ]
    },
    {
      "cell_type": "code",
      "metadata": {
        "id": "2mzfw2X5doN2"
      },
      "source": [
        "X_test = test[features]\r\n",
        "y_test = test[\"hof\"].astype(int)\r\n",
        "\r\n",
        "def test_model(model, features):\r\n",
        "    proba = model.predict_proba(test[features])[:, 1]\r\n",
        "    pred = (proba > 0.65).astype(int)\r\n",
        "    \r\n",
        "    acc = accuracy_score(y_test, pred)\r\n",
        "    loss = brier_score_loss(y_test, proba)\r\n",
        "    \r\n",
        "    return proba, pred\r\n",
        "  \r\n",
        "df = train.append(valid, ignore_index = True)\r\n",
        "\r\n",
        "X, y = df.drop(\"hof\", axis=1), df[\"hof\"]\r\n",
        "\r\n",
        "logreg_pipe.fit(X[rfe_features], y);\r\n",
        "rf.fit(X[rf_features], y);\r\n",
        "\r\n",
        "logreg_test = test_model(logreg_pipe, rfe_features)\r\n",
        "rf_test = test_model(rf, best_features)\r\n"
      ],
      "execution_count": null,
      "outputs": []
    },
    {
      "cell_type": "code",
      "metadata": {
        "id": "8JtmtadBdoN2",
        "colab": {
          "base_uri": "https://localhost:8080/"
        },
        "outputId": "8e0d5042-ead5-4acf-c729-b352969c85f7"
      },
      "source": [
        "print(\"Logistic Regression Model: \\n\", sep=\"\")\r\n",
        "test_probability_lr = logreg_test[0]\r\n",
        "test_prediction_lr = test_probability_lr > 0.65\r\n",
        "\r\n",
        "acc_logreg = accuracy_score(y_test, test_prediction_lr)\r\n",
        "loss_logreg = brier_score_loss(y_test, test_probability_lr)\r\n",
        "\r\n",
        "print('Accuracy: \\n'+str(acc_logreg)+ '\\n Loss: \\n'+str(loss_logreg))\r\n",
        "\r\n",
        "print(\"\\nRandom Forest Classifier: \\n\", sep=\"\")\r\n",
        "test_probability_rf = rf_test[0]\r\n",
        "test_prediction_rf = test_probability_rf > 0.65\r\n",
        "\r\n",
        "acc_rf = accuracy_score(y_test, test_prediction_rf)\r\n",
        "loss_rf = brier_score_loss(y_test, test_probability_rf)\r\n",
        "\r\n",
        "print('Accuracy: \\n'+str(acc_rf)+ '\\n Loss: \\n'+str(loss_rf))"
      ],
      "execution_count": null,
      "outputs": [
        {
          "output_type": "stream",
          "text": [
            "Logistic Regression Model: \n",
            "\n",
            "Accuracy: \n",
            "0.9496296296296296\n",
            " Loss: \n",
            "0.0531083090388698\n",
            "\n",
            "Random Forest Classifier: \n",
            "\n",
            "Accuracy: \n",
            "0.9437037037037037\n",
            " Loss: \n",
            "0.06075255446227478\n"
          ],
          "name": "stdout"
        }
      ]
    },
    {
      "cell_type": "code",
      "metadata": {
        "id": "AHl4rYM_mHDb"
      },
      "source": [
        "y_pred_proba = []\r\n",
        "for i in enumerate(logreg_test[0]):\r\n",
        "    y_pred_proba.append(i[1])\r\n",
        "y_pred_proba = np.asarray(y_pred_proba)\r\n",
        "\r\n",
        "results_hof = pd.DataFrame({\r\n",
        "    \"player_name\": test[\"player_name\"],\r\n",
        "    \"probability_hof\": y_pred_proba\r\n",
        "    })\r\n",
        "\r\n",
        "top_hof_chances = test[['player_name']]\r\n",
        "top_hof_results = results_hof.merge(top_hof_chances, on='player_name').sort_values(by='probability_hof', ascending=False)"
      ],
      "execution_count": null,
      "outputs": []
    },
    {
      "cell_type": "code",
      "metadata": {
        "colab": {
          "base_uri": "https://localhost:8080/",
          "height": 669
        },
        "id": "Gg52VVOYnpqZ",
        "outputId": "e9172a0f-7a77-4eac-c14f-6d8955f6a29f"
      },
      "source": [
        "top_hof_results.head(20)"
      ],
      "execution_count": null,
      "outputs": [
        {
          "output_type": "execute_result",
          "data": {
            "text/html": [
              "<div>\n",
              "<style scoped>\n",
              "    .dataframe tbody tr th:only-of-type {\n",
              "        vertical-align: middle;\n",
              "    }\n",
              "\n",
              "    .dataframe tbody tr th {\n",
              "        vertical-align: top;\n",
              "    }\n",
              "\n",
              "    .dataframe thead th {\n",
              "        text-align: right;\n",
              "    }\n",
              "</style>\n",
              "<table border=\"1\" class=\"dataframe\">\n",
              "  <thead>\n",
              "    <tr style=\"text-align: right;\">\n",
              "      <th></th>\n",
              "      <th>player_name</th>\n",
              "      <th>probability_hof</th>\n",
              "    </tr>\n",
              "  </thead>\n",
              "  <tbody>\n",
              "    <tr>\n",
              "      <th>307</th>\n",
              "      <td>LeBron James</td>\n",
              "      <td>0.999999</td>\n",
              "    </tr>\n",
              "    <tr>\n",
              "      <th>183</th>\n",
              "      <td>Kevin Durant</td>\n",
              "      <td>0.999655</td>\n",
              "    </tr>\n",
              "    <tr>\n",
              "      <th>152</th>\n",
              "      <td>Stephen Curry</td>\n",
              "      <td>0.999409</td>\n",
              "    </tr>\n",
              "    <tr>\n",
              "      <th>246</th>\n",
              "      <td>James Harden</td>\n",
              "      <td>0.999399</td>\n",
              "    </tr>\n",
              "    <tr>\n",
              "      <th>459</th>\n",
              "      <td>Dirk Nowitzki</td>\n",
              "      <td>0.999346</td>\n",
              "    </tr>\n",
              "    <tr>\n",
              "      <th>640</th>\n",
              "      <td>Russell Westbrook</td>\n",
              "      <td>0.999163</td>\n",
              "    </tr>\n",
              "    <tr>\n",
              "      <th>21</th>\n",
              "      <td>Giannis Antetokounmpo</td>\n",
              "      <td>0.996218</td>\n",
              "    </tr>\n",
              "    <tr>\n",
              "      <th>624</th>\n",
              "      <td>Dwyane Wade</td>\n",
              "      <td>0.995806</td>\n",
              "    </tr>\n",
              "    <tr>\n",
              "      <th>488</th>\n",
              "      <td>Chris Paul</td>\n",
              "      <td>0.991506</td>\n",
              "    </tr>\n",
              "    <tr>\n",
              "      <th>170</th>\n",
              "      <td>Luka Dončić</td>\n",
              "      <td>0.990406</td>\n",
              "    </tr>\n",
              "    <tr>\n",
              "      <th>186</th>\n",
              "      <td>Joel Embiid</td>\n",
              "      <td>0.987553</td>\n",
              "    </tr>\n",
              "    <tr>\n",
              "      <th>22</th>\n",
              "      <td>Carmelo Anthony</td>\n",
              "      <td>0.980620</td>\n",
              "    </tr>\n",
              "    <tr>\n",
              "      <th>154</th>\n",
              "      <td>Anthony Davis</td>\n",
              "      <td>0.973034</td>\n",
              "    </tr>\n",
              "    <tr>\n",
              "      <th>495</th>\n",
              "      <td>Paul Pierce</td>\n",
              "      <td>0.972006</td>\n",
              "    </tr>\n",
              "    <tr>\n",
              "      <th>372</th>\n",
              "      <td>Damian Lillard</td>\n",
              "      <td>0.962833</td>\n",
              "    </tr>\n",
              "    <tr>\n",
              "      <th>298</th>\n",
              "      <td>Kyrie Irving</td>\n",
              "      <td>0.959273</td>\n",
              "    </tr>\n",
              "    <tr>\n",
              "      <th>285</th>\n",
              "      <td>Dwight Howard</td>\n",
              "      <td>0.958648</td>\n",
              "    </tr>\n",
              "    <tr>\n",
              "      <th>240</th>\n",
              "      <td>Blake Griffin</td>\n",
              "      <td>0.955362</td>\n",
              "    </tr>\n",
              "    <tr>\n",
              "      <th>673</th>\n",
              "      <td>Trae Young</td>\n",
              "      <td>0.953845</td>\n",
              "    </tr>\n",
              "    <tr>\n",
              "      <th>605</th>\n",
              "      <td>Karl-Anthony Towns</td>\n",
              "      <td>0.952909</td>\n",
              "    </tr>\n",
              "  </tbody>\n",
              "</table>\n",
              "</div>"
            ],
            "text/plain": [
              "               player_name  probability_hof\n",
              "307           LeBron James         0.999999\n",
              "183           Kevin Durant         0.999655\n",
              "152          Stephen Curry         0.999409\n",
              "246           James Harden         0.999399\n",
              "459          Dirk Nowitzki         0.999346\n",
              "640      Russell Westbrook         0.999163\n",
              "21   Giannis Antetokounmpo         0.996218\n",
              "624            Dwyane Wade         0.995806\n",
              "488             Chris Paul         0.991506\n",
              "170            Luka Dončić         0.990406\n",
              "186            Joel Embiid         0.987553\n",
              "22         Carmelo Anthony         0.980620\n",
              "154          Anthony Davis         0.973034\n",
              "495            Paul Pierce         0.972006\n",
              "372         Damian Lillard         0.962833\n",
              "298           Kyrie Irving         0.959273\n",
              "285          Dwight Howard         0.958648\n",
              "240          Blake Griffin         0.955362\n",
              "673             Trae Young         0.953845\n",
              "605     Karl-Anthony Towns         0.952909"
            ]
          },
          "metadata": {
            "tags": []
          },
          "execution_count": 242
        }
      ]
    },
    {
      "cell_type": "markdown",
      "metadata": {
        "id": "8gL6eWBQQuxR"
      },
      "source": [
        "### Results\n",
        "As we hypothesized, the logistic regression model performed better than the random forest classifier model on the test data set, as seen in the accuracy of the validation results, where the logistic regression model was 94.4% accurate and the random forest model was 91.4% accurate. Additionally, if we look at the proportion of non-Hall-of-Famers to total players in the years we include for our data, we get about 3350/3500, or 95.7%, and we see that the logistic regression model predicts this value to be 94.9% for the test data, compared to 94.4% for the random forest model. It is not necessarily the case that this proportion in the test data will match that of previous years, but the fact that logistic regression returns a figure closer to this proportion may be another indicator of superior performance. Also, looking at the list of players that our model has given the 20 highest chances of Hall-of-Fame induction, almost all players there are surely a lock to make it, and the very top of the list is nearly the same as the consensus top players to make the Hall-of-Fame, namely LeBron James, Kevin Durant, Stephen Curry, James Harden, Dirk Nowitzki, Dwyane Wade, and Chris Paul. "
      ]
    },
    {
      "cell_type": "markdown",
      "metadata": {
        "id": "zFJvNcooQu6H"
      },
      "source": [
        "## Conclusion\n",
        "We were able to use prediction models to determine which statistics are important in determining an NBA player's chances of Hall of Fame induction. Our logistic regression model proved superior, and based on the validation data, it was able to accurately predict the Hall-of-Fame status for 94.4% of the players. Also, both our models agreed that points per game, player efficiency rating, and total all-star selections were extremely important indicators of Hall-of-Fame chances. \n",
        "\n",
        "The model worked well and looks like it could be a good predictor of Hall-of-Fame chances. Though it was not perfect, a model that predicts with 100% accuracy using solely analytics is not possible, as oftentimes narratives and off-the-court behavior can override on-court performance. As of now there is no concrete, objective criteria given to voters for what determines a Hall-of-Famer, but perhaps the statistics the model marked above are good stats to keep in mind for voters when they choose their Hall-of-Fame ballots.\n",
        "\n",
        "Here is an additional interesting article that debate the potential Hall-of-Fame candidacy of current NBA players:\n",
        "https://bleacherreport.com/articles/2898627-predicting-how-many-future-hall-of-famers-are-on-every-nba-roster\n",
        "\n",
        "Lastly, here is a link to the top 100 players basketball-reference.com has determined have the highest probabilities of making the Hall-of-Fame:\n",
        "https://www.basketball-reference.com/leaders/hof_prob.html\n"
      ]
    }
  ]
}